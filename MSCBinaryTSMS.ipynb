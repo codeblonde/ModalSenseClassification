{
  "nbformat": 4,
  "nbformat_minor": 0,
  "metadata": {
    "colab": {
      "name": "MSCBinaryTSMS",
      "provenance": [],
      "collapsed_sections": [],
      "toc_visible": true
    },
    "kernelspec": {
      "name": "python3",
      "display_name": "Python 3"
    }
  },
  "cells": [
    {
      "cell_type": "markdown",
      "metadata": {
        "id": "TyacQd8tomYg",
        "colab_type": "text"
      },
      "source": [
        "# Modal Sense Classification\n",
        "\n",
        "This project aims to re-implement the work and of Marsovic & Frank (2016).\n",
        "The task is a modal sense classification of sentences containing the German modal verbs 'können', 'müssen', 'dürfen' and 'sollen'. The data for this task is taken from the EPOS Dataset, consisting of sentences from movie subtitles. The Marasovic et al. (2016) created the corpus to enlarge their existing dataset and be able to carry out more controlled experiments. The corpus was created via cross-lingual sense projection and a balanced version made available. \n",
        "\n",
        "The second dataset under investigation is a modality annotated version of the NZZ corpus (Müller et al. 2012, Roch 2018), from now on called NZZ Modality. The respective data was gathered from Swiss newspaper articles with an emphasis on samples containing specific preposotional phrase structures.\n",
        "\n",
        "Both datasets will be used to explore the gerneralization capability of CNNs on the task of MSC, more specifically their ability to deal with varibility between the datasets at hand.\n",
        "Results will be discussed in more detail in accompanying paper.\n",
        "\n",
        "\n",
        "The Notebook is structured as follows:\n",
        "\n",
        "Since the EPOS dataset will act as validation set in an attempt to replicate previous works, it will used for classification first. Then the model will be applied to the second dataset (NZZ Modality) and modified if needed.\n",
        "\n",
        "\n",
        "1. EPOS Dataset Summary & Preparation\n",
        "2. Definition Model Architecture\n",
        "3. EPOS Dataset Training & Evaluation\n",
        "4. Visualization\n",
        "\n",
        "5. NZZ Modality Data Summary & Preparation\n",
        "6. Split into multiple Training Sets\n",
        "7. Adaptation Model Architecture\n",
        "8. Classification & Comparison of Subsets\n",
        "\n",
        "\n",
        "\n",
        "\n"
      ]
    },
    {
      "cell_type": "markdown",
      "metadata": {
        "id": "Sm1fDlki-I3n",
        "colab_type": "text"
      },
      "source": [
        "## Libraries"
      ]
    },
    {
      "cell_type": "code",
      "metadata": {
        "id": "gK9nykGVt2hF",
        "colab_type": "code",
        "colab": {}
      },
      "source": [
        "## Load all necessary libraries and tools\n",
        "# Base Libraries\n",
        "\n",
        "import pandas as pd\n",
        "import numpy as np\n",
        "from numpy import array\n",
        "import io, os, sys\n",
        "import string\n",
        "import matplotlib.pyplot as plt\n",
        "import seaborn as sns\n",
        "from google.colab import files"
      ],
      "execution_count": 0,
      "outputs": []
    },
    {
      "cell_type": "code",
      "metadata": {
        "id": "wt1-1Otq6b0V",
        "colab_type": "code",
        "outputId": "a3168055-e863-41ba-8e55-dc4eac29ea75",
        "colab": {
          "base_uri": "https://localhost:8080/",
          "height": 139
        }
      },
      "source": [
        "# Machine Learning Libraries\n",
        "\n",
        "%tensorflow_version 2.x # tensorflow magic, only to be used in google colab. comment out if using other editor/environment\n",
        "\n",
        "import tensorflow as tf\n",
        "from tensorflow.keras.models import Sequential, Model\n",
        "from tensorflow.keras.layers import Embedding, Conv1D, MaxPooling1D, GlobalMaxPooling1D, Flatten, Dense, Activation, Dropout, Input\n",
        "from tensorflow.keras.layers import concatenate\n",
        "from tensorflow.keras.utils import plot_model\n",
        "from tensorflow.keras.preprocessing.sequence import pad_sequences\n",
        "from tensorflow.keras.preprocessing.text import Tokenizer\n",
        "from keras.utils import to_categorical\n",
        "from tensorflow.keras.models import load_model\n",
        "from tensorflow.keras import optimizers, regularizers\n",
        "\n",
        "from sklearn.preprocessing import LabelEncoder\n",
        "from sklearn.preprocessing import OneHotEncoder\n",
        "from sklearn.model_selection import train_test_split"
      ],
      "execution_count": 0,
      "outputs": [
        {
          "output_type": "stream",
          "text": [
            "`%tensorflow_version` only switches the major version: 1.x or 2.x.\n",
            "You set: `2.x # tensorflow magic, only to be used in google colab. comment out if using other editor/environment`. This will be interpreted as: `2.x`.\n",
            "\n",
            "\n",
            "TensorFlow 2.x selected.\n"
          ],
          "name": "stdout"
        },
        {
          "output_type": "stream",
          "text": [
            "Using TensorFlow backend.\n"
          ],
          "name": "stderr"
        }
      ]
    },
    {
      "cell_type": "code",
      "metadata": {
        "id": "avu59eSW913E",
        "colab_type": "code",
        "colab": {}
      },
      "source": [
        "# Flair Word Embeddings\n",
        "\n",
        "!pip install flair\n",
        "from flair.embeddings import WordEmbeddings\n",
        "from flair.data import Sentence"
      ],
      "execution_count": 0,
      "outputs": []
    },
    {
      "cell_type": "markdown",
      "metadata": {
        "id": "xcuRL362-PQj",
        "colab_type": "text"
      },
      "source": [
        "## EPOS Dataset\n",
        "\n",
        "The data will be loaded via files.upload() for usage in google colab.\n",
        "\n",
        "The data will then be split into the individual sentences (x) and their respective labels (y) for classification. The EPOS data is already separated into test and train set, still another split is made to create a development set.\n",
        "\n",
        "After loading, the data will run through a preprocessing pipeline, where all sentences will be cleaned, meaning punctuation and other symbols will be removed. Then the sentences will be transformed into pre-trained word embeddings and zero-padded as to ensure that all sequences have the same length.\n",
        "\n",
        "The labels will be encoded into categorical one-hot encodings.\n"
      ]
    },
    {
      "cell_type": "markdown",
      "metadata": {
        "id": "Ix1gUQ9bDMBJ",
        "colab_type": "text"
      },
      "source": [
        "### Load Data"
      ]
    },
    {
      "cell_type": "code",
      "metadata": {
        "id": "2Yg388ZuCrxo",
        "colab_type": "code",
        "outputId": "efe4d38a-6f9b-4288-bede-cabdfaf88154",
        "colab": {
          "resources": {
            "http://localhost:8080/nbextensions/google.colab/files.js": {
              "data": "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",
              "ok": true,
              "headers": [
                [
                  "content-type",
                  "application/javascript"
                ]
              ],
              "status": 200,
              "status_text": ""
            }
          },
          "base_uri": "https://localhost:8080/",
          "height": 329
        }
      },
      "source": [
        "# Upload Local Files into Temporary Google Colab Directory\n",
        "data_train = files.upload() \n",
        "data_test = files.upload()"
      ],
      "execution_count": 0,
      "outputs": [
        {
          "output_type": "display_data",
          "data": {
            "text/html": [
              "\n",
              "     <input type=\"file\" id=\"files-98bd95ee-a8e1-465b-a953-4f3944c7b942\" name=\"files[]\" multiple disabled />\n",
              "     <output id=\"result-98bd95ee-a8e1-465b-a953-4f3944c7b942\">\n",
              "      Upload widget is only available when the cell has been executed in the\n",
              "      current browser session. Please rerun this cell to enable.\n",
              "      </output>\n",
              "      <script src=\"/nbextensions/google.colab/files.js\"></script> "
            ],
            "text/plain": [
              "<IPython.core.display.HTML object>"
            ]
          },
          "metadata": {
            "tags": []
          }
        },
        {
          "output_type": "stream",
          "text": [
            "Saving duerfen.txt to duerfen (2).txt\n",
            "Saving koennen.txt to koennen (2).txt\n",
            "Saving muessen.txt to muessen (2).txt\n",
            "Saving sollen.txt to sollen (2).txt\n"
          ],
          "name": "stdout"
        },
        {
          "output_type": "display_data",
          "data": {
            "text/html": [
              "\n",
              "     <input type=\"file\" id=\"files-36344abe-8533-4b8d-b098-f3ee3d9ca9c9\" name=\"files[]\" multiple disabled />\n",
              "     <output id=\"result-36344abe-8533-4b8d-b098-f3ee3d9ca9c9\">\n",
              "      Upload widget is only available when the cell has been executed in the\n",
              "      current browser session. Please rerun this cell to enable.\n",
              "      </output>\n",
              "      <script src=\"/nbextensions/google.colab/files.js\"></script> "
            ],
            "text/plain": [
              "<IPython.core.display.HTML object>"
            ]
          },
          "metadata": {
            "tags": []
          }
        },
        {
          "output_type": "stream",
          "text": [
            "Saving duerfen.txt to duerfen (3).txt\n",
            "Saving koennen.txt to koennen (3).txt\n",
            "Saving muessen.txt to muessen (3).txt\n",
            "Saving sollen.txt to sollen (3).txt\n"
          ],
          "name": "stdout"
        }
      ]
    },
    {
      "cell_type": "code",
      "metadata": {
        "id": "7cjDyLxBLKYn",
        "colab_type": "code",
        "colab": {}
      },
      "source": [
        "# Split Function\n",
        "\n",
        "def split_xy(txt_file):\n",
        "  x = []\n",
        "  y = []\n",
        "  text = open(txt_file, 'r')\n",
        "  lines = text.readlines()\n",
        "  text.close()\n",
        "  for line in lines:\n",
        "    split = line.split('\\t')\n",
        "    x.append(split[0])\n",
        "    y.append(split[1][:-1])\n",
        "  return x, y"
      ],
      "execution_count": 0,
      "outputs": []
    },
    {
      "cell_type": "code",
      "metadata": {
        "id": "Wv2AEx61LLXo",
        "colab_type": "code",
        "colab": {}
      },
      "source": [
        "# Split Train Set into Texts and Labels\n",
        "\n",
        "x_sollen_raw, y_sollen_raw = split_xy('sollen.txt')\n",
        "x_koennen_raw, y_koennen_raw = split_xy('koennen.txt')\n",
        "x_muessen_raw, y_muessen_raw = split_xy('muessen.txt')\n",
        "x_duerfen_raw, y_duerfen_raw = split_xy('duerfen.txt')"
      ],
      "execution_count": 0,
      "outputs": []
    },
    {
      "cell_type": "code",
      "metadata": {
        "id": "fHkmZqTaLOsN",
        "colab_type": "code",
        "colab": {}
      },
      "source": [
        "# Split Test Set into Texts and Labels\n",
        "\n",
        "x_sollen_test, y_sollen_test = split_xy('sollen (1).txt')\n",
        "x_koennen_test, y_koennen_test = split_xy('koennen (1).txt')\n",
        "x_muessen_test, y_muessen_test = split_xy('muessen (1).txt')\n",
        "x_duerfen_test, y_duerfen_test = split_xy('duerfen (1).txt')"
      ],
      "execution_count": 0,
      "outputs": []
    },
    {
      "cell_type": "markdown",
      "metadata": {
        "id": "UzsLtIfRBqKc",
        "colab_type": "text"
      },
      "source": [
        "### Summary"
      ]
    },
    {
      "cell_type": "code",
      "metadata": {
        "id": "PpXzeSycBB-J",
        "colab_type": "code",
        "outputId": "18f467c2-442a-43b7-d076-62972192563e",
        "colab": {
          "base_uri": "https://localhost:8080/",
          "height": 173
        }
      },
      "source": [
        "# Distribution of Classes among Samples in Train Set\n",
        "\n",
        "dist = pd.DataFrame(data = {'Verb': ['duerfen', 'muessen', 'koennen', 'sollen'], \n",
        "        'Deontic': [y_duerfen_raw.count('de'), y_muessen_raw.count('de'), y_koennen_raw.count('de'), y_sollen_raw.count('de')], \n",
        "        'Epistemic': [y_duerfen_raw.count('ep'), y_muessen_raw.count('ep'), y_koennen_raw.count('ep'), y_sollen_raw.count('ep')], \n",
        "        'Dynamic': [y_duerfen_raw.count('dy'), y_muessen_raw.count('dy'), y_koennen_raw.count('dy'), y_sollen_raw.count('dy')],\n",
        "        '# Samples': [len(y_duerfen_raw), len(y_muessen_raw), len(y_koennen_raw), len(y_sollen_raw)]})\n",
        "\n",
        "dist.set_index('Verb')\n",
        "\n",
        "dist"
      ],
      "execution_count": 0,
      "outputs": [
        {
          "output_type": "execute_result",
          "data": {
            "text/html": [
              "<div>\n",
              "<style scoped>\n",
              "    .dataframe tbody tr th:only-of-type {\n",
              "        vertical-align: middle;\n",
              "    }\n",
              "\n",
              "    .dataframe tbody tr th {\n",
              "        vertical-align: top;\n",
              "    }\n",
              "\n",
              "    .dataframe thead th {\n",
              "        text-align: right;\n",
              "    }\n",
              "</style>\n",
              "<table border=\"1\" class=\"dataframe\">\n",
              "  <thead>\n",
              "    <tr style=\"text-align: right;\">\n",
              "      <th></th>\n",
              "      <th>Verb</th>\n",
              "      <th>Deontic</th>\n",
              "      <th>Epistemic</th>\n",
              "      <th>Dynamic</th>\n",
              "      <th># Samples</th>\n",
              "    </tr>\n",
              "  </thead>\n",
              "  <tbody>\n",
              "    <tr>\n",
              "      <th>0</th>\n",
              "      <td>duerfen</td>\n",
              "      <td>1000</td>\n",
              "      <td>1000</td>\n",
              "      <td>0</td>\n",
              "      <td>2000</td>\n",
              "    </tr>\n",
              "    <tr>\n",
              "      <th>1</th>\n",
              "      <td>muessen</td>\n",
              "      <td>1000</td>\n",
              "      <td>1000</td>\n",
              "      <td>0</td>\n",
              "      <td>2000</td>\n",
              "    </tr>\n",
              "    <tr>\n",
              "      <th>2</th>\n",
              "      <td>koennen</td>\n",
              "      <td>1000</td>\n",
              "      <td>1000</td>\n",
              "      <td>1000</td>\n",
              "      <td>3000</td>\n",
              "    </tr>\n",
              "    <tr>\n",
              "      <th>3</th>\n",
              "      <td>sollen</td>\n",
              "      <td>1000</td>\n",
              "      <td>1000</td>\n",
              "      <td>0</td>\n",
              "      <td>2000</td>\n",
              "    </tr>\n",
              "  </tbody>\n",
              "</table>\n",
              "</div>"
            ],
            "text/plain": [
              "      Verb  Deontic  Epistemic  Dynamic  # Samples\n",
              "0  duerfen     1000       1000        0       2000\n",
              "1  muessen     1000       1000        0       2000\n",
              "2  koennen     1000       1000     1000       3000\n",
              "3   sollen     1000       1000        0       2000"
            ]
          },
          "metadata": {
            "tags": []
          },
          "execution_count": 27
        }
      ]
    },
    {
      "cell_type": "code",
      "metadata": {
        "id": "NgL8ndyTGZrt",
        "colab_type": "code",
        "colab": {}
      },
      "source": [
        "# Cut out Dynamic Samples for Binary Classification\n",
        "y_koennen_raw = y_koennen_raw[:1000]+ y_koennen_raw[2000:]\n",
        "x_koennen_raw = x_koennen_raw[:1000]+ x_koennen_raw[2000:]"
      ],
      "execution_count": 0,
      "outputs": []
    },
    {
      "cell_type": "code",
      "metadata": {
        "id": "6PDQrJ_boZ3g",
        "colab_type": "code",
        "outputId": "ce487373-ab99-4883-dacb-5f79d5f61f68",
        "colab": {
          "base_uri": "https://localhost:8080/",
          "height": 173
        }
      },
      "source": [
        "# Distribution of Classes among Samples in Test Set\n",
        "\n",
        "dist_test = pd.DataFrame(data = {'Verb': ['duerfen', 'muessen', 'koennen', 'sollen'], \n",
        "        'Deontic': [y_duerfen_test.count('de'), y_muessen_test.count('de'), y_koennen_test.count('de'), y_sollen_test.count('de')], \n",
        "        'Epistemic': [y_duerfen_test.count('ep'), y_muessen_test.count('ep'), y_koennen_test.count('ep'), y_sollen_test.count('ep')], \n",
        "        'Dynamic': [y_duerfen_test.count('dy'), y_muessen_test.count('dy'), y_koennen_test.count('dy'), y_sollen_test.count('dy')],\n",
        "        '# Samples': [len(y_duerfen_test), len(y_muessen_test), len(y_koennen_test), len(y_sollen_test)]})\n",
        "\n",
        "dist_test.set_index('Verb')\n",
        "\n",
        "dist_test"
      ],
      "execution_count": 0,
      "outputs": [
        {
          "output_type": "execute_result",
          "data": {
            "text/html": [
              "<div>\n",
              "<style scoped>\n",
              "    .dataframe tbody tr th:only-of-type {\n",
              "        vertical-align: middle;\n",
              "    }\n",
              "\n",
              "    .dataframe tbody tr th {\n",
              "        vertical-align: top;\n",
              "    }\n",
              "\n",
              "    .dataframe thead th {\n",
              "        text-align: right;\n",
              "    }\n",
              "</style>\n",
              "<table border=\"1\" class=\"dataframe\">\n",
              "  <thead>\n",
              "    <tr style=\"text-align: right;\">\n",
              "      <th></th>\n",
              "      <th>Verb</th>\n",
              "      <th>Deontic</th>\n",
              "      <th>Epistemic</th>\n",
              "      <th>Dynamic</th>\n",
              "      <th># Samples</th>\n",
              "    </tr>\n",
              "  </thead>\n",
              "  <tbody>\n",
              "    <tr>\n",
              "      <th>0</th>\n",
              "      <td>duerfen</td>\n",
              "      <td>100</td>\n",
              "      <td>98</td>\n",
              "      <td>0</td>\n",
              "      <td>198</td>\n",
              "    </tr>\n",
              "    <tr>\n",
              "      <th>1</th>\n",
              "      <td>muessen</td>\n",
              "      <td>100</td>\n",
              "      <td>34</td>\n",
              "      <td>0</td>\n",
              "      <td>134</td>\n",
              "    </tr>\n",
              "    <tr>\n",
              "      <th>2</th>\n",
              "      <td>koennen</td>\n",
              "      <td>47</td>\n",
              "      <td>100</td>\n",
              "      <td>100</td>\n",
              "      <td>247</td>\n",
              "    </tr>\n",
              "    <tr>\n",
              "      <th>3</th>\n",
              "      <td>sollen</td>\n",
              "      <td>100</td>\n",
              "      <td>101</td>\n",
              "      <td>0</td>\n",
              "      <td>201</td>\n",
              "    </tr>\n",
              "  </tbody>\n",
              "</table>\n",
              "</div>"
            ],
            "text/plain": [
              "      Verb  Deontic  Epistemic  Dynamic  # Samples\n",
              "0  duerfen      100         98        0        198\n",
              "1  muessen      100         34        0        134\n",
              "2  koennen       47        100      100        247\n",
              "3   sollen      100        101        0        201"
            ]
          },
          "metadata": {
            "tags": []
          },
          "execution_count": 33
        }
      ]
    },
    {
      "cell_type": "code",
      "metadata": {
        "id": "zAepOymGNUP2",
        "colab_type": "code",
        "colab": {}
      },
      "source": [
        "# Cut out Dynamic Samples for Binary Classification\n",
        "y_koennen_test = y_koennen_test[:47] + y_koennen_test[147:]\n",
        "x_koennen_test = x_koennen_test[:47] + x_koennen_test[147:]"
      ],
      "execution_count": 0,
      "outputs": []
    },
    {
      "cell_type": "code",
      "metadata": {
        "id": "UIPnbBGVC7Wk",
        "colab_type": "code",
        "outputId": "bcfb0496-1e79-4a65-a984-4001f78e824a",
        "colab": {
          "base_uri": "https://localhost:8080/",
          "height": 419
        }
      },
      "source": [
        "# Comprehensive Data Frame (Train Set)\n",
        "\n",
        "labels = y_duerfen_raw + y_muessen_raw + y_koennen_raw + y_sollen_raw\n",
        "verbs = ['duerfen']*len(x_duerfen_raw) + ['muessen']*len(x_muessen_raw) + ['koennen']*len(x_koennen_raw) + ['sollen']*len(x_sollen_raw)\n",
        "texts = x_duerfen_raw + x_muessen_raw + x_koennen_raw + x_sollen_raw\n",
        "\n",
        "df = pd.DataFrame({'Sentence': texts,\n",
        "                   'Modal Verb' : verbs,\n",
        "                   'Label' : labels})\n",
        "\n",
        "onehotdf = pd.get_dummies(df.Label)\n",
        "pd.concat([df, onehotdf], axis=1)"
      ],
      "execution_count": 0,
      "outputs": [
        {
          "output_type": "execute_result",
          "data": {
            "text/html": [
              "<div>\n",
              "<style scoped>\n",
              "    .dataframe tbody tr th:only-of-type {\n",
              "        vertical-align: middle;\n",
              "    }\n",
              "\n",
              "    .dataframe tbody tr th {\n",
              "        vertical-align: top;\n",
              "    }\n",
              "\n",
              "    .dataframe thead th {\n",
              "        text-align: right;\n",
              "    }\n",
              "</style>\n",
              "<table border=\"1\" class=\"dataframe\">\n",
              "  <thead>\n",
              "    <tr style=\"text-align: right;\">\n",
              "      <th></th>\n",
              "      <th>Sentence</th>\n",
              "      <th>Modal Verb</th>\n",
              "      <th>Label</th>\n",
              "      <th>de</th>\n",
              "      <th>ep</th>\n",
              "    </tr>\n",
              "  </thead>\n",
              "  <tbody>\n",
              "    <tr>\n",
              "      <th>0</th>\n",
              "      <td>Verzeihung , Gentlemen ... ... aber dieses Flu...</td>\n",
              "      <td>duerfen</td>\n",
              "      <td>de</td>\n",
              "      <td>1</td>\n",
              "      <td>0</td>\n",
              "    </tr>\n",
              "    <tr>\n",
              "      <th>1</th>\n",
              "      <td>lch darf kein Fett und kein Alkohol . Nur Wein .</td>\n",
              "      <td>duerfen</td>\n",
              "      <td>de</td>\n",
              "      <td>1</td>\n",
              "      <td>0</td>\n",
              "    </tr>\n",
              "    <tr>\n",
              "      <th>2</th>\n",
              "      <td>Das bezweifle ich , denn damit dürfte illegale...</td>\n",
              "      <td>duerfen</td>\n",
              "      <td>de</td>\n",
              "      <td>1</td>\n",
              "      <td>0</td>\n",
              "    </tr>\n",
              "    <tr>\n",
              "      <th>3</th>\n",
              "      <td>Darf ich Ihnen im Namen des Hauses gratulieren ?</td>\n",
              "      <td>duerfen</td>\n",
              "      <td>de</td>\n",
              "      <td>1</td>\n",
              "      <td>0</td>\n",
              "    </tr>\n",
              "    <tr>\n",
              "      <th>4</th>\n",
              "      <td>Wir dürfen dann nicht ins Ausland und werden v...</td>\n",
              "      <td>duerfen</td>\n",
              "      <td>de</td>\n",
              "      <td>1</td>\n",
              "      <td>0</td>\n",
              "    </tr>\n",
              "    <tr>\n",
              "      <th>...</th>\n",
              "      <td>...</td>\n",
              "      <td>...</td>\n",
              "      <td>...</td>\n",
              "      <td>...</td>\n",
              "      <td>...</td>\n",
              "    </tr>\n",
              "    <tr>\n",
              "      <th>7995</th>\n",
              "      <td>Frau Präsidentin ! Ein Kollege sollte sich wun...</td>\n",
              "      <td>sollen</td>\n",
              "      <td>ep</td>\n",
              "      <td>0</td>\n",
              "      <td>1</td>\n",
              "    </tr>\n",
              "    <tr>\n",
              "      <th>7996</th>\n",
              "      <td>Ja , sollte schon sein .</td>\n",
              "      <td>sollen</td>\n",
              "      <td>ep</td>\n",
              "      <td>0</td>\n",
              "      <td>1</td>\n",
              "    </tr>\n",
              "    <tr>\n",
              "      <th>7997</th>\n",
              "      <td>Das sollte einem hart vorkommen . Aber so ist ...</td>\n",
              "      <td>sollen</td>\n",
              "      <td>ep</td>\n",
              "      <td>0</td>\n",
              "      <td>1</td>\n",
              "    </tr>\n",
              "    <tr>\n",
              "      <th>7998</th>\n",
              "      <td>- Ich fürchte , ich muss . So verlockend es au...</td>\n",
              "      <td>sollen</td>\n",
              "      <td>ep</td>\n",
              "      <td>0</td>\n",
              "      <td>1</td>\n",
              "    </tr>\n",
              "    <tr>\n",
              "      <th>7999</th>\n",
              "      <td>Das sollte zutreffen , doch möchte ich hierzu ...</td>\n",
              "      <td>sollen</td>\n",
              "      <td>ep</td>\n",
              "      <td>0</td>\n",
              "      <td>1</td>\n",
              "    </tr>\n",
              "  </tbody>\n",
              "</table>\n",
              "<p>8000 rows × 5 columns</p>\n",
              "</div>"
            ],
            "text/plain": [
              "                                               Sentence Modal Verb  ... de  ep\n",
              "0     Verzeihung , Gentlemen ... ... aber dieses Flu...    duerfen  ...  1   0\n",
              "1      lch darf kein Fett und kein Alkohol . Nur Wein .    duerfen  ...  1   0\n",
              "2     Das bezweifle ich , denn damit dürfte illegale...    duerfen  ...  1   0\n",
              "3      Darf ich Ihnen im Namen des Hauses gratulieren ?    duerfen  ...  1   0\n",
              "4     Wir dürfen dann nicht ins Ausland und werden v...    duerfen  ...  1   0\n",
              "...                                                 ...        ...  ... ..  ..\n",
              "7995  Frau Präsidentin ! Ein Kollege sollte sich wun...     sollen  ...  0   1\n",
              "7996                           Ja , sollte schon sein .     sollen  ...  0   1\n",
              "7997  Das sollte einem hart vorkommen . Aber so ist ...     sollen  ...  0   1\n",
              "7998  - Ich fürchte , ich muss . So verlockend es au...     sollen  ...  0   1\n",
              "7999  Das sollte zutreffen , doch möchte ich hierzu ...     sollen  ...  0   1\n",
              "\n",
              "[8000 rows x 5 columns]"
            ]
          },
          "metadata": {
            "tags": []
          },
          "execution_count": 35
        }
      ]
    },
    {
      "cell_type": "code",
      "metadata": {
        "id": "hyjX6EQzDeD4",
        "colab_type": "code",
        "outputId": "098f84a7-83af-4c96-e12d-681fdbec705a",
        "colab": {
          "base_uri": "https://localhost:8080/",
          "height": 312
        }
      },
      "source": [
        "# Get Overview over Length of Texts (punctuation marks still included)\n",
        "\n",
        "x = [len(s.split()) for s in texts]\n",
        "\n",
        "sns.set_style('darkgrid')\n",
        "sns.distplot(x, kde=False)\n",
        "plt.xlabel('Sequence Length')\n",
        "plt.ylabel('Number of Samples')\n",
        "plt.title('Distribution of Sequences according to Length')\n",
        "plt.show"
      ],
      "execution_count": 0,
      "outputs": [
        {
          "output_type": "execute_result",
          "data": {
            "text/plain": [
              "<function matplotlib.pyplot.show>"
            ]
          },
          "metadata": {
            "tags": []
          },
          "execution_count": 36
        },
        {
          "output_type": "display_data",
          "data": {
            "image/png": "[encoded data removed]",
            "text/plain": [
              "<Figure size 432x288 with 1 Axes>"
            ]
          },
          "metadata": {
            "tags": []
          }
        }
      ]
    },
    {
      "cell_type": "code",
      "metadata": {
        "id": "9GwZTb01wh7W",
        "colab_type": "code",
        "outputId": "241fe539-9e1f-4ed1-81ae-960a0588b898",
        "colab": {
          "base_uri": "https://localhost:8080/",
          "height": 51
        }
      },
      "source": [
        "# Max and Mean Sequence Length\n",
        "\n",
        "max_len = max(x)\n",
        "mean_len = np.mean(x)\n",
        "print('max length: %d' %max_len)\n",
        "print('mean length: %d' %mean_len)"
      ],
      "execution_count": 0,
      "outputs": [
        {
          "output_type": "stream",
          "text": [
            "max length: 111\n",
            "mean length: 14\n"
          ],
          "name": "stdout"
        }
      ]
    },
    {
      "cell_type": "markdown",
      "metadata": {
        "id": "tooMRwXhBFse",
        "colab_type": "text"
      },
      "source": [
        "### Preprocessing\n"
      ]
    },
    {
      "cell_type": "code",
      "metadata": {
        "id": "ALPHgRfUGZUy",
        "colab_type": "code",
        "colab": {}
      },
      "source": [
        "# Remove Punctuation Marks and Symbols from Texts\n",
        "\n",
        "def clean_x(texts):\n",
        "  cleanTexts = []\n",
        "  for sent in texts:\n",
        "    stripped = [w for w in sent.split() if w.isalpha()] #remove punctuation, integer and other symbols\n",
        "    stripped = ' '.join(stripped)\n",
        "    cleanTexts.append(stripped)\n",
        "  return cleanTexts"
      ],
      "execution_count": 0,
      "outputs": []
    },
    {
      "cell_type": "code",
      "metadata": {
        "id": "iUJs7-ZNyqdF",
        "colab_type": "code",
        "colab": {}
      },
      "source": [
        "# Encode Texts into Word Embeddings\n",
        "\n",
        "def embed_x(cleanTexts):\n",
        "  embeddings = WordEmbeddings('de-crawl') # load Flair embeddings\n",
        "  embeddedSents = []\n",
        "  for text in cleanTexts:\n",
        "    sent = Sentence(text)\n",
        "    embeddings.embed(sent) # transform each sentence into word vector sequence\n",
        "    embeddedSents.append([t.embedding.numpy() for t in sent])\n",
        "  return embeddedSents\n"
      ],
      "execution_count": 0,
      "outputs": []
    },
    {
      "cell_type": "code",
      "metadata": {
        "id": "cU4sZjGaHtCO",
        "colab_type": "code",
        "colab": {}
      },
      "source": [
        "# Padding\n",
        "\n",
        "def pad_x(embeddedSents):\n",
        "  padded = pad_sequences(embeddedSents, padding= 'post', dtype='float32', truncating = 'post', maxlen = 100) #200 pad embeddings to have same length\n",
        "  return padded\n",
        "\n",
        "# Note: Max Length for the EPOS Dataset is a Number of 95 Words per Sequence Punctuation and other Symbols excluded"
      ],
      "execution_count": 0,
      "outputs": []
    },
    {
      "cell_type": "code",
      "metadata": {
        "id": "7F0OEiEQHpVn",
        "colab_type": "code",
        "colab": {}
      },
      "source": [
        "# Encode Labels into Categorical One-Hot Vectors\n",
        "\n",
        "def encode_y(labels):\n",
        "  label_encoder = LabelEncoder()\n",
        "  int_encoded = label_encoder.fit_transform(labels) # transform string labels into integers\n",
        "  onehot_encoded = to_categorical(array(int_encoded)) # transform integers into n-dimensional one-hot encodings\n",
        "  return onehot_encoded"
      ],
      "execution_count": 0,
      "outputs": []
    },
    {
      "cell_type": "code",
      "metadata": {
        "id": "gtyB4LQCrqSB",
        "colab_type": "code",
        "outputId": "751381ec-1621-4f8f-c2e1-6fd405a6d482",
        "colab": {
          "base_uri": "https://localhost:8080/",
          "height": 71
        }
      },
      "source": [
        "# Process Train Set \n",
        "\n",
        "# Text Sequences\n",
        "X_texts = texts\n",
        "X_clean = clean_x(X_texts) # embed texts\n",
        "X_emb = embed_x(X_clean)\n",
        "X_train = pad_x(X_emb) # pad texts\n",
        "\n",
        "# Labels\n",
        "Y_train = labels\n",
        "Y_train = encode_y(Y_train)\n",
        "\n",
        "# Train Dev Split\n",
        "x_train, x_dev, y_train, y_dev = train_test_split(X_train, Y_train, test_size = 0.2, random_state= 42)\n",
        "\n",
        "# Individual Subsets\n",
        "X_duerfen = X_train[:2000]\n",
        "X_muessen = X_train[2000:4000]\n",
        "X_koennen = X_train[4000:6000]\n",
        "X_sollen = X_train[6000:]\n",
        "\n",
        "Y_duerfen = Y_train[:2000]\n",
        "Y_muessen = Y_train[2000:4000]\n",
        "Y_koennen = Y_train[4000:6000]\n",
        "Y_sollen = Y_train[6000:]"
      ],
      "execution_count": 0,
      "outputs": [
        {
          "output_type": "stream",
          "text": [
            "/usr/local/lib/python3.6/dist-packages/smart_open/smart_open_lib.py:253: UserWarning: This function is deprecated, use smart_open.open instead. See the migration notes for details: https://github.com/RaRe-Technologies/smart_open/blob/master/README.rst#migrating-to-the-new-open-function\n",
            "  'See the migration notes for details: %s' % _MIGRATION_NOTES_URL\n"
          ],
          "name": "stderr"
        }
      ]
    },
    {
      "cell_type": "code",
      "metadata": {
        "id": "_OmlGwa859DE",
        "colab_type": "code",
        "outputId": "65855a31-5c9f-4aa0-8411-b0eef57e8986",
        "colab": {
          "base_uri": "https://localhost:8080/",
          "height": 51
        }
      },
      "source": [
        "# Check Dimensions via Shape\n",
        "print('x_train shape:', x_train.shape)\n",
        "print('y_train shape:', y_train.shape)"
      ],
      "execution_count": 0,
      "outputs": [
        {
          "output_type": "stream",
          "text": [
            "x_train shape: (6400, 100, 300)\n",
            "y_train shape: (6400, 2)\n"
          ],
          "name": "stdout"
        }
      ]
    },
    {
      "cell_type": "code",
      "metadata": {
        "id": "LjRibVKFLUOY",
        "colab_type": "code",
        "outputId": "7a4ece15-9e10-49eb-d5f5-f7f2ed15c5ea",
        "colab": {
          "base_uri": "https://localhost:8080/",
          "height": 153
        }
      },
      "source": [
        "# Check Embeddings and One-Hot Label Encoding\n",
        "print('X_train Sample Embedding:', X_train[0])\n",
        "print('Y_train Sample Encoding:', Y_train[0])"
      ],
      "execution_count": 0,
      "outputs": [
        {
          "output_type": "stream",
          "text": [
            "X_train Sample Embedding: [[ 0.004  -0.0003 -0.0417 ...  0.028   0.0083  0.0174]\n",
            " [-0.032   0.0015 -0.0747 ...  0.0153  0.0053  0.0268]\n",
            " [ 0.0009  0.018   0.0223 ...  0.0483  0.0239 -0.0441]\n",
            " ...\n",
            " [ 0.      0.      0.     ...  0.      0.      0.    ]\n",
            " [ 0.      0.      0.     ...  0.      0.      0.    ]\n",
            " [ 0.      0.      0.     ...  0.      0.      0.    ]]\n",
            "Y_train Sample Encoding: [1. 0.]\n"
          ],
          "name": "stdout"
        }
      ]
    },
    {
      "cell_type": "code",
      "metadata": {
        "id": "ORJSycE_ApVc",
        "colab_type": "code",
        "outputId": "c4e8ebe9-bcbb-4665-d903-b9dbc17bbc0c",
        "colab": {
          "base_uri": "https://localhost:8080/",
          "height": 71
        }
      },
      "source": [
        "# Process Test Set\n",
        "\n",
        "# Text Sequences\n",
        "x_texts = x_duerfen_test + x_muessen_test + x_koennen_test + x_sollen_test\n",
        "x_clean = clean_x(x_texts) #texts\n",
        "x_emb = embed_x(x_clean)\n",
        "x_test = pad_x(x_emb)\n",
        "\n",
        "# Labels\n",
        "y_test = y_duerfen_test + y_muessen_test + y_koennen_test + y_sollen_test\n",
        "y_test = encode_y(y_test)\n",
        "\n",
        "# Individual Subsets\n",
        "x_duerfen = x_test[:198]\n",
        "x_muessen = x_test[198:332]\n",
        "x_koennen = x_test[332:479]\n",
        "x_sollen = x_test[479:]\n",
        "\n",
        "y_duerfen = y_test[:198]\n",
        "y_muessen = y_test[198:332]\n",
        "y_koennen = y_test[332:479]\n",
        "y_sollen = y_test[479:]\n",
        "\n",
        "# Note: Train Subsets are denoted by upper case character and Test Subsets by lower case character"
      ],
      "execution_count": 0,
      "outputs": [
        {
          "output_type": "stream",
          "text": [
            "/usr/local/lib/python3.6/dist-packages/smart_open/smart_open_lib.py:253: UserWarning: This function is deprecated, use smart_open.open instead. See the migration notes for details: https://github.com/RaRe-Technologies/smart_open/blob/master/README.rst#migrating-to-the-new-open-function\n",
            "  'See the migration notes for details: %s' % _MIGRATION_NOTES_URL\n"
          ],
          "name": "stderr"
        }
      ]
    },
    {
      "cell_type": "code",
      "metadata": {
        "id": "hDoES-93H5MS",
        "colab_type": "code",
        "outputId": "a218167a-484e-4c98-a2ef-c2a893bea84d",
        "colab": {
          "base_uri": "https://localhost:8080/",
          "height": 51
        }
      },
      "source": [
        "# Check Dimensions via Shape\n",
        "print('x_test shape:', x_test.shape)\n",
        "print('y_test shape:', y_test.shape)"
      ],
      "execution_count": 0,
      "outputs": [
        {
          "output_type": "stream",
          "text": [
            "x_test shape: (680, 100, 300)\n",
            "y_test shape: (680, 2)\n"
          ],
          "name": "stdout"
        }
      ]
    },
    {
      "cell_type": "markdown",
      "metadata": {
        "id": "V1yprBQ3GWDJ",
        "colab_type": "text"
      },
      "source": [
        "## Classification"
      ]
    },
    {
      "cell_type": "markdown",
      "metadata": {
        "id": "YkF7a02BGh8E",
        "colab_type": "text"
      },
      "source": [
        "### Define Model\n",
        "\n",
        "Following Kim (2014) original proposal, a one-layer 3-channel CNN Architecture was chosen. This marks a slight deviation from Marasovic & Frank (2016) who deployed a 1-channel architecture."
      ]
    },
    {
      "cell_type": "code",
      "metadata": {
        "id": "wW-ha8fqGabu",
        "colab_type": "code",
        "colab": {}
      },
      "source": [
        "# Define One-Layer Mulit-Channel Architecture\n",
        "\n",
        "def define_model(length, dims): #sequence length, vocab size/embedding dims\n",
        "  # channel 1\n",
        "  inputs1 = Input(shape=(length, dims))\n",
        "  conv1 = Conv1D(filters = 128, kernel_size = 4, activation = 'relu', activity_regularizer=regularizers.l2(0.001))(inputs1)#(embedding1) #filter size 4\n",
        "  drop1 = Dropout(0.5)(conv1) # higher drop out = slower and more consistent learning\n",
        "  pool1 = MaxPooling1D(pool_size = 2)(drop1)\n",
        "  flat1 = Flatten()(pool1)\n",
        "  # channel 2\n",
        "  inputs2 = Input(shape=(length, dims))\n",
        "  conv2 = Conv1D(filters = 128, kernel_size = 6, activation = 'relu', activity_regularizer=regularizers.l2(0.001))(inputs2)#(embedding2) #filter size 6\n",
        "  drop2 = Dropout(0.5)(conv2)\n",
        "  pool2 = MaxPooling1D(pool_size = 2)(drop2)\n",
        "  flat2 = Flatten()(pool2)\n",
        "  # channel 3\n",
        "  inputs3 = Input(shape=(length, dims))\n",
        "  conv3 = Conv1D(filters = 128, kernel_size = 8, activation = 'relu', activity_regularizer=regularizers.l2(0.001))(inputs3) #(embedding3) #filter size 8\n",
        "  drop3 = Dropout(0.5)(conv3)\n",
        "  pool3 = MaxPooling1D(pool_size = 2)(drop3)\n",
        "  flat3 = Flatten()(pool3)\n",
        "  # merge layer\n",
        "  merged = concatenate([flat1, flat2, flat3])\n",
        "  dense1 = Dense(10, activation = 'relu', activity_regularizer=regularizers.l2(0.001))(merged) #reg!\n",
        "  outputs = Dense(2, activation = 'softmax', activity_regularizer=regularizers.l2(0.001))(dense1) # regularizer slows down learning\n",
        "  model = Model(inputs = [inputs1, inputs2, inputs3], outputs  = outputs)\n",
        "  # compile\n",
        "  model.compile(loss = 'binary_crossentropy', optimizer = optimizers.Adam(learning_rate = 0.001), metrics = ['accuracy']) #0.0001 lower lr to counteract fast overfitting\n",
        "  # summary \n",
        "  print(model.summary())\n",
        "\n",
        "  return model"
      ],
      "execution_count": 0,
      "outputs": []
    },
    {
      "cell_type": "code",
      "metadata": {
        "id": "5ur7f4-vGuPU",
        "colab_type": "code",
        "outputId": "6b87a03d-a3c8-47dc-ec2a-4f29ee4ef261",
        "colab": {
          "base_uri": "https://localhost:8080/",
          "height": 816
        }
      },
      "source": [
        "# Instantiate Model\n",
        "\n",
        "model = define_model(100, 300) #95, 300"
      ],
      "execution_count": 0,
      "outputs": [
        {
          "output_type": "stream",
          "text": [
            "Model: \"model_1\"\n",
            "__________________________________________________________________________________________________\n",
            "Layer (type)                    Output Shape         Param #     Connected to                     \n",
            "==================================================================================================\n",
            "input_4 (InputLayer)            [(None, 100, 300)]   0                                            \n",
            "__________________________________________________________________________________________________\n",
            "input_5 (InputLayer)            [(None, 100, 300)]   0                                            \n",
            "__________________________________________________________________________________________________\n",
            "input_6 (InputLayer)            [(None, 100, 300)]   0                                            \n",
            "__________________________________________________________________________________________________\n",
            "conv1d_3 (Conv1D)               (None, 97, 128)      153728      input_4[0][0]                    \n",
            "__________________________________________________________________________________________________\n",
            "conv1d_4 (Conv1D)               (None, 95, 128)      230528      input_5[0][0]                    \n",
            "__________________________________________________________________________________________________\n",
            "conv1d_5 (Conv1D)               (None, 93, 128)      307328      input_6[0][0]                    \n",
            "__________________________________________________________________________________________________\n",
            "dropout_3 (Dropout)             (None, 97, 128)      0           conv1d_3[0][0]                   \n",
            "__________________________________________________________________________________________________\n",
            "dropout_4 (Dropout)             (None, 95, 128)      0           conv1d_4[0][0]                   \n",
            "__________________________________________________________________________________________________\n",
            "dropout_5 (Dropout)             (None, 93, 128)      0           conv1d_5[0][0]                   \n",
            "__________________________________________________________________________________________________\n",
            "max_pooling1d_3 (MaxPooling1D)  (None, 48, 128)      0           dropout_3[0][0]                  \n",
            "__________________________________________________________________________________________________\n",
            "max_pooling1d_4 (MaxPooling1D)  (None, 47, 128)      0           dropout_4[0][0]                  \n",
            "__________________________________________________________________________________________________\n",
            "max_pooling1d_5 (MaxPooling1D)  (None, 46, 128)      0           dropout_5[0][0]                  \n",
            "__________________________________________________________________________________________________\n",
            "flatten_3 (Flatten)             (None, 6144)         0           max_pooling1d_3[0][0]            \n",
            "__________________________________________________________________________________________________\n",
            "flatten_4 (Flatten)             (None, 6016)         0           max_pooling1d_4[0][0]            \n",
            "__________________________________________________________________________________________________\n",
            "flatten_5 (Flatten)             (None, 5888)         0           max_pooling1d_5[0][0]            \n",
            "__________________________________________________________________________________________________\n",
            "concatenate_1 (Concatenate)     (None, 18048)        0           flatten_3[0][0]                  \n",
            "                                                                 flatten_4[0][0]                  \n",
            "                                                                 flatten_5[0][0]                  \n",
            "__________________________________________________________________________________________________\n",
            "dense_2 (Dense)                 (None, 10)           180490      concatenate_1[0][0]              \n",
            "__________________________________________________________________________________________________\n",
            "dense_3 (Dense)                 (None, 2)            22          dense_2[0][0]                    \n",
            "==================================================================================================\n",
            "Total params: 872,096\n",
            "Trainable params: 872,096\n",
            "Non-trainable params: 0\n",
            "__________________________________________________________________________________________________\n",
            "None\n"
          ],
          "name": "stdout"
        }
      ]
    },
    {
      "cell_type": "markdown",
      "metadata": {
        "id": "gu4sLg2aGlHo",
        "colab_type": "text"
      },
      "source": [
        "### Training & Evaluation"
      ]
    },
    {
      "cell_type": "code",
      "metadata": {
        "id": "GFQ6c4kbGx7N",
        "colab_type": "code",
        "outputId": "217e08ed-0571-498f-bc80-f8dedc3edc17",
        "colab": {
          "base_uri": "https://localhost:8080/",
          "height": 717
        }
      },
      "source": [
        "# Training on Train and Dev Set\n",
        "\n",
        "history = model.fit(x = [x_train, x_train, x_train], y = y_train, validation_data = ([x_dev, x_dev, x_dev], y_dev), shuffle = True, epochs = 20, batch_size = 16) #16"
      ],
      "execution_count": 0,
      "outputs": [
        {
          "output_type": "stream",
          "text": [
            "Epoch 1/20\n",
            "400/400 [==============================] - 40s 101ms/step - loss: 0.4222 - accuracy: 0.8178 - val_loss: 0.3337 - val_accuracy: 0.8825\n",
            "Epoch 2/20\n",
            "400/400 [==============================] - 40s 100ms/step - loss: 0.2221 - accuracy: 0.9336 - val_loss: 0.2221 - val_accuracy: 0.9200\n",
            "Epoch 3/20\n",
            "400/400 [==============================] - 40s 100ms/step - loss: 0.1648 - accuracy: 0.9508 - val_loss: 0.2059 - val_accuracy: 0.9362\n",
            "Epoch 4/20\n",
            "400/400 [==============================] - 40s 100ms/step - loss: 0.1249 - accuracy: 0.9652 - val_loss: 0.1743 - val_accuracy: 0.9456\n",
            "Epoch 5/20\n",
            "400/400 [==============================] - 40s 100ms/step - loss: 0.0914 - accuracy: 0.9784 - val_loss: 0.1859 - val_accuracy: 0.9381\n",
            "Epoch 6/20\n",
            "400/400 [==============================] - 40s 100ms/step - loss: 0.0885 - accuracy: 0.9791 - val_loss: 0.2035 - val_accuracy: 0.9413\n",
            "Epoch 7/20\n",
            "400/400 [==============================] - 40s 100ms/step - loss: 0.0799 - accuracy: 0.9805 - val_loss: 0.1709 - val_accuracy: 0.9500\n",
            "Epoch 8/20\n",
            "400/400 [==============================] - 40s 100ms/step - loss: 0.0613 - accuracy: 0.9894 - val_loss: 0.2500 - val_accuracy: 0.9281\n",
            "Epoch 9/20\n",
            "400/400 [==============================] - 40s 100ms/step - loss: 0.0547 - accuracy: 0.9905 - val_loss: 0.1578 - val_accuracy: 0.9531\n",
            "Epoch 10/20\n",
            "400/400 [==============================] - 40s 100ms/step - loss: 0.0565 - accuracy: 0.9897 - val_loss: 0.2365 - val_accuracy: 0.9356\n",
            "Epoch 11/20\n",
            "400/400 [==============================] - 40s 99ms/step - loss: 0.0545 - accuracy: 0.9911 - val_loss: 0.1874 - val_accuracy: 0.9506\n",
            "Epoch 12/20\n",
            "400/400 [==============================] - 40s 101ms/step - loss: 0.0714 - accuracy: 0.9839 - val_loss: 0.2042 - val_accuracy: 0.9425\n",
            "Epoch 13/20\n",
            "400/400 [==============================] - 40s 101ms/step - loss: 0.0588 - accuracy: 0.9884 - val_loss: 0.1936 - val_accuracy: 0.9438\n",
            "Epoch 14/20\n",
            "400/400 [==============================] - 40s 100ms/step - loss: 0.0555 - accuracy: 0.9898 - val_loss: 0.1738 - val_accuracy: 0.9513\n",
            "Epoch 15/20\n",
            "400/400 [==============================] - 41s 102ms/step - loss: 0.0437 - accuracy: 0.9923 - val_loss: 0.1629 - val_accuracy: 0.9544\n",
            "Epoch 16/20\n",
            "400/400 [==============================] - 41s 101ms/step - loss: 0.0552 - accuracy: 0.9877 - val_loss: 0.2076 - val_accuracy: 0.9413\n",
            "Epoch 17/20\n",
            "400/400 [==============================] - 41s 102ms/step - loss: 0.0481 - accuracy: 0.9905 - val_loss: 0.1650 - val_accuracy: 0.9575\n",
            "Epoch 18/20\n",
            "400/400 [==============================] - 40s 101ms/step - loss: 0.0520 - accuracy: 0.9895 - val_loss: 0.1679 - val_accuracy: 0.9550\n",
            "Epoch 19/20\n",
            "400/400 [==============================] - 40s 101ms/step - loss: 0.0480 - accuracy: 0.9897 - val_loss: 0.1578 - val_accuracy: 0.9525\n",
            "Epoch 20/20\n",
            "400/400 [==============================] - 40s 101ms/step - loss: 0.0436 - accuracy: 0.9925 - val_loss: 0.1727 - val_accuracy: 0.9556\n"
          ],
          "name": "stdout"
        }
      ]
    },
    {
      "cell_type": "code",
      "metadata": {
        "id": "ZQ4hP7vxC2VI",
        "colab_type": "code",
        "outputId": "40702d7e-1086-41c9-b68a-73b4fe0dbdfc",
        "colab": {
          "base_uri": "https://localhost:8080/",
          "height": 68
        }
      },
      "source": [
        "# Evaluation on Test Set\n",
        "\n",
        "loss_all, metric_all = model.evaluate(x= [x_test, x_test, x_test], y = y_test, batch_size = 16, verbose = 1)\n",
        "print('Accuracy over whole Test Set: %.2f \\n' % metric_all)"
      ],
      "execution_count": 0,
      "outputs": [
        {
          "output_type": "stream",
          "text": [
            "43/43 [==============================] - 1s 31ms/step - loss: 0.1949 - accuracy: 0.9500\n",
            "Accuracy over whole Test Set: 0.95 \n",
            "\n"
          ],
          "name": "stdout"
        }
      ]
    },
    {
      "cell_type": "code",
      "metadata": {
        "id": "_5UD659LDa7-",
        "colab_type": "code",
        "outputId": "3b8b05e8-8496-4d79-b113-7118ecc3e4a8",
        "colab": {
          "base_uri": "https://localhost:8080/",
          "height": 170
        }
      },
      "source": [
        "# Evaluation on Test Subsets\n",
        "\n",
        "loss_k, metrics_k = model.evaluate(x= [x_koennen, x_koennen, x_koennen], y = y_koennen, batch_size = 16, verbose = 1)\n",
        "loss_s, metrics_s = model.evaluate(x= [x_sollen, x_sollen, x_sollen], y = y_sollen, batch_size = 16, verbose = 1)\n",
        "loss_m, metrics_m = model.evaluate(x= [x_muessen, x_muessen, x_muessen], y = y_muessen, batch_size = 16, verbose = 1)\n",
        "loss_d, metrics_d = model.evaluate(x= [x_duerfen, x_duerfen, x_duerfen], y = y_duerfen, batch_size = 16, verbose = 1)\n",
        "\n",
        "print('Accuracy Subset \"koennen\": %.2f \\n' % metrics_k,\n",
        "      'Accuracy Subset \"sollen\": %.2f \\n' % metrics_s,\n",
        "      'Accuracy Subset \"muessen\": %.2f \\n' % metrics_m,\n",
        "      'Accuracy Subset \"duerfen\": %.2f' % metrics_d)"
      ],
      "execution_count": 0,
      "outputs": [
        {
          "output_type": "stream",
          "text": [
            "10/10 [==============================] - 0s 26ms/step - loss: 0.1607 - accuracy: 0.9728\n",
            "13/13 [==============================] - 0s 29ms/step - loss: 0.3283 - accuracy: 0.9154\n",
            "9/9 [==============================] - 0s 26ms/step - loss: 0.2410 - accuracy: 0.9104\n",
            "13/13 [==============================] - 0s 28ms/step - loss: 0.0537 - accuracy: 0.9949\n",
            "Accuracy Subset \"koennen\": 0.97 \n",
            " Accuracy Subset \"sollen\": 0.92 \n",
            " Accuracy Subset \"muessen\": 0.91 \n",
            " Accuracy Subset \"duerfen\": 0.99 \n",
            "\n"
          ],
          "name": "stdout"
        }
      ]
    },
    {
      "cell_type": "code",
      "metadata": {
        "id": "XhoCSqkTDNMq",
        "colab_type": "code",
        "colab": {}
      },
      "source": [
        "# Save Model for Later Use\n",
        "model.save('ModalSenseBinaryCNN100Neu.h5')"
      ],
      "execution_count": 0,
      "outputs": []
    },
    {
      "cell_type": "markdown",
      "metadata": {
        "id": "l6JoHmnyBB3v",
        "colab_type": "text"
      },
      "source": [
        "### Visualization"
      ]
    },
    {
      "cell_type": "code",
      "metadata": {
        "id": "1GhZwo6JBZIk",
        "colab_type": "code",
        "outputId": "c37ca981-dc62-4c24-be52-3137b5c850aa",
        "colab": {
          "base_uri": "https://localhost:8080/",
          "height": 722
        }
      },
      "source": [
        "# Model Architecture\n",
        "\n",
        "plot_model(model, show_shapes = True)#, to_file='MultiChannelModalSenseClf.png')"
      ],
      "execution_count": 0,
      "outputs": [
        {
          "output_type": "execute_result",
          "data": {
            "image/png": "[encoded data removed]",
            "text/plain": [
              "<IPython.core.display.Image object>"
            ]
          },
          "metadata": {
            "tags": []
          },
          "execution_count": 35
        }
      ]
    },
    {
      "cell_type": "code",
      "metadata": {
        "id": "gJtjheMOGx3i",
        "colab_type": "code",
        "outputId": "db216521-2f05-4ca4-b5c7-6040e3d3926d",
        "colab": {
          "base_uri": "https://localhost:8080/",
          "height": 295
        }
      },
      "source": [
        "# Plot training & validation accuracy values\n",
        "\n",
        "plt.plot(history.history['accuracy'])\n",
        "plt.plot(history.history['val_accuracy'])\n",
        "plt.title('Model accuracy')\n",
        "plt.ylabel('Accuracy')\n",
        "plt.xlabel('Epoch')\n",
        "plt.legend(['Train', 'Test', 'Classes'], loc='lower right')\n",
        "plt.savefig('ModalSenseBinaryAccuracy100Neu.png')\n",
        "plt.show()\n"
      ],
      "execution_count": 0,
      "outputs": [
        {
          "output_type": "display_data",
          "data": {
            "image/png": "[encoded data removed]",
            "text/plain": [
              "<Figure size 432x288 with 1 Axes>"
            ]
          },
          "metadata": {
            "tags": []
          }
        }
      ]
    },
    {
      "cell_type": "code",
      "metadata": {
        "id": "qi1k_WXJGxu8",
        "colab_type": "code",
        "outputId": "afa2455c-be8d-4410-d3be-ab74eeae8e96",
        "colab": {
          "base_uri": "https://localhost:8080/",
          "height": 295
        }
      },
      "source": [
        "# Plot training & validation loss values\n",
        "\n",
        "plt.plot(history.history['loss'])\n",
        "plt.plot(history.history['val_loss'])\n",
        "plt.title('Model loss')\n",
        "plt.ylabel('Loss')\n",
        "plt.xlabel('Epoch')\n",
        "plt.legend(['Train', 'Test'], loc='upper right')\n",
        "plt.savefig('ModalBinaryClassLoss100Neu.png')\n",
        "plt.show()"
      ],
      "execution_count": 0,
      "outputs": [
        {
          "output_type": "display_data",
          "data": {
            "image/png": "[encoded data removed]",
            "text/plain": [
              "<Figure size 432x288 with 1 Axes>"
            ]
          },
          "metadata": {
            "tags": []
          }
        }
      ]
    },
    {
      "cell_type": "markdown",
      "metadata": {
        "id": "aodO1hFJC7Pv",
        "colab_type": "text"
      },
      "source": [
        "## NZZ Modality Dataset\n",
        "\n",
        "The NZZ Modality Dataset is preprocessed basically the same as the EPOS Datasets.\n",
        "\n",
        "The pre-trained EPOS Model was evaluated on the NZZ Modality corpus. Due to unsatisfactory results, the model architecture was refined and trained on the NZZ Modality data to achieve better performance.\n",
        "\n",
        "Further, number of Subsets were created to investigate the performance of the CNN Model. Sets were created with respect to the location of the modal verb, Target Sentence vs Matrix Sentence and broadness of category (root - epistemic vs deontic - epistemic)."
      ]
    },
    {
      "cell_type": "markdown",
      "metadata": {
        "id": "tL0JH_kABoLw",
        "colab_type": "text"
      },
      "source": [
        "### Load Data"
      ]
    },
    {
      "cell_type": "code",
      "metadata": {
        "id": "JiPK9STJ-RJb",
        "colab_type": "code",
        "outputId": "7938936b-88bf-4aaa-c0c1-84ec4a697563",
        "colab": {
          "resources": {
            "http://localhost:8080/nbextensions/google.colab/files.js": {
              "data": "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",
              "ok": true,
              "headers": [
                [
                  "content-type",
                  "application/javascript"
                ]
              ],
              "status": 200,
              "status_text": ""
            }
          },
          "base_uri": "https://localhost:8080/",
          "height": 88
        }
      },
      "source": [
        "data = files.upload() #upload local files into temporary google colab directory"
      ],
      "execution_count": 0,
      "outputs": [
        {
          "output_type": "display_data",
          "data": {
            "text/html": [
              "\n",
              "     <input type=\"file\" id=\"files-5431cd64-83f5-4a21-b417-0a292bd23e8e\" name=\"files[]\" multiple disabled />\n",
              "     <output id=\"result-5431cd64-83f5-4a21-b417-0a292bd23e8e\">\n",
              "      Upload widget is only available when the cell has been executed in the\n",
              "      current browser session. Please rerun this cell to enable.\n",
              "      </output>\n",
              "      <script src=\"/nbextensions/google.colab/files.js\"></script> "
            ],
            "text/plain": [
              "<IPython.core.display.HTML object>"
            ]
          },
          "metadata": {
            "tags": []
          }
        },
        {
          "output_type": "stream",
          "text": [
            "Saving NZZ_BEI_MIT_OHNE_Modalverben_lex.xlsx to NZZ_BEI_MIT_OHNE_Modalverben_lex.xlsx\n"
          ],
          "name": "stdout"
        }
      ]
    },
    {
      "cell_type": "code",
      "metadata": {
        "id": "y9W3qwuIq5jj",
        "colab_type": "code",
        "outputId": "d76a368a-7b64-49c0-dfce-859e1dc9db18",
        "colab": {
          "base_uri": "https://localhost:8080/",
          "height": 830
        }
      },
      "source": [
        "# Create Dataframe\n",
        "\n",
        "df = pd.read_excel('NZZ_BEI_MIT_OHNE_Modalverben_lex.xlsx') # whole data\n",
        "df_modals_onlyTS = df[df['TS.Modalverb'] == 'ts_mv'] # data target sentences containing modal verbs only\n",
        "df_modals_onlyTS"
      ],
      "execution_count": 0,
      "outputs": [
        {
          "output_type": "execute_result",
          "data": {
            "text/html": [
              "<div>\n",
              "<style scoped>\n",
              "    .dataframe tbody tr th:only-of-type {\n",
              "        vertical-align: middle;\n",
              "    }\n",
              "\n",
              "    .dataframe tbody tr th {\n",
              "        vertical-align: top;\n",
              "    }\n",
              "\n",
              "    .dataframe thead th {\n",
              "        text-align: right;\n",
              "    }\n",
              "</style>\n",
              "<table border=\"1\" class=\"dataframe\">\n",
              "  <thead>\n",
              "    <tr style=\"text-align: right;\">\n",
              "      <th></th>\n",
              "      <th>Präposition</th>\n",
              "      <th>global_id</th>\n",
              "      <th>kontext</th>\n",
              "      <th>Prep.Meaning</th>\n",
              "      <th>Syn.Dep</th>\n",
              "      <th>TS.V.Temp</th>\n",
              "      <th>TS.V.Modus</th>\n",
              "      <th>TS.V.Diath</th>\n",
              "      <th>TS.V.Aktionsart</th>\n",
              "      <th>TS.Negation</th>\n",
              "      <th>TS.Modalverb</th>\n",
              "      <th>TS.Modalverb.Lex</th>\n",
              "      <th>TS.Mod.Les.sp</th>\n",
              "      <th>TS.Mod.Les.gr</th>\n",
              "      <th>TS.Verbsem</th>\n",
              "      <th>TS.Satzadv</th>\n",
              "      <th>TS.Nomsem</th>\n",
              "      <th>TS.Adjsem</th>\n",
              "      <th>TS.Konstruktion</th>\n",
              "      <th>TS.Modalpartikeln</th>\n",
              "      <th>TS.Fokuspartikeln</th>\n",
              "      <th>TS.Konjadv</th>\n",
              "      <th>TS.Faktivitaet</th>\n",
              "      <th>TS.Gener.Episod</th>\n",
              "      <th>TS.Satzmodus</th>\n",
              "      <th>TS.Source</th>\n",
              "      <th>MS.vorhanden</th>\n",
              "      <th>MS.V.Temp</th>\n",
              "      <th>MS.V.Modus</th>\n",
              "      <th>MS.Negation</th>\n",
              "      <th>MS.Modalverb</th>\n",
              "      <th>MS.Modalverb.Lex</th>\n",
              "      <th>MS.Mod.Les.sp</th>\n",
              "      <th>MS.Mod.Les.gr</th>\n",
              "      <th>MS.Verbsem</th>\n",
              "      <th>MS.Satzadv</th>\n",
              "      <th>MS.Nomsem</th>\n",
              "      <th>MS.Adjsem</th>\n",
              "      <th>MS.Konstruktion</th>\n",
              "      <th>MS.Modalpartikeln</th>\n",
              "      <th>MS.Fokpuspartikeln</th>\n",
              "      <th>MS.Konjadv</th>\n",
              "      <th>MS.Faktivitaet</th>\n",
              "      <th>MS.Gener.Episod</th>\n",
              "      <th>MS.Satzmodus</th>\n",
              "      <th>MS.Source</th>\n",
              "    </tr>\n",
              "  </thead>\n",
              "  <tbody>\n",
              "    <tr>\n",
              "      <th>0</th>\n",
              "      <td>bei</td>\n",
              "      <td>nzz_1994_11_23_a98_seg7_s9_hit1</td>\n",
              "      <td>Möglich sei eine Akzentverschiebung auf Betrie...</td>\n",
              "      <td>konditional</td>\n",
              "      <td>Syn(V)</td>\n",
              "      <td>ts_temp(Praes)</td>\n",
              "      <td>ts_modus(KonII)</td>\n",
              "      <td>ts_diath(aktiv)</td>\n",
              "      <td>ts_v_akt(state)</td>\n",
              "      <td>ts_dopneg</td>\n",
              "      <td>ts_mv</td>\n",
              "      <td>ts_mv_lex(koennen)</td>\n",
              "      <td>ts_mv_rh(circum)</td>\n",
              "      <td>ts_mv_rhg(root)</td>\n",
              "      <td>ts_vs_kfak</td>\n",
              "      <td>ts_no_modsadv</td>\n",
              "      <td>ts_no_mod_nom</td>\n",
              "      <td>ts_no_mod_adj</td>\n",
              "      <td>ts_no_mod_konstr</td>\n",
              "      <td>ts_no_modpart</td>\n",
              "      <td>ts_fokpart(KDS:auch/nur/selbst);fokpart</td>\n",
              "      <td>ts_konjadv</td>\n",
              "      <td>ts_fakstat(nonfak)</td>\n",
              "      <td>ts_epigenstat(gener)</td>\n",
              "      <td>ts_smood(deklarativ)</td>\n",
              "      <td>ts_no_source</td>\n",
              "      <td>ms_no</td>\n",
              "      <td>ms_no_temp</td>\n",
              "      <td>ms_no_modus</td>\n",
              "      <td>ms_no_neg</td>\n",
              "      <td>ms_no_mv</td>\n",
              "      <td>ms_no_mv_lex</td>\n",
              "      <td>ms_no_mv_rh</td>\n",
              "      <td>ms_no_mv_rhg</td>\n",
              "      <td>ms_no_vs</td>\n",
              "      <td>ms_no_modsadv</td>\n",
              "      <td>ms_no_mod_nom</td>\n",
              "      <td>ms_no_mod_adj</td>\n",
              "      <td>ms_no_mod_konstr</td>\n",
              "      <td>ms_no_modpart</td>\n",
              "      <td>ms_no_fokpart</td>\n",
              "      <td>ms_no_konjadv</td>\n",
              "      <td>ms_no_fakstat</td>\n",
              "      <td>ms_no_epigenstat</td>\n",
              "      <td>ms_no_smood</td>\n",
              "      <td>ms_no_source</td>\n",
              "    </tr>\n",
              "    <tr>\n",
              "      <th>1</th>\n",
              "      <td>bei</td>\n",
              "      <td>nzz_1996_05_17_a143_seg3_s5_hit1</td>\n",
              "      <td>Diese Vorspiegelung falscher Vorstellungen mac...</td>\n",
              "      <td>bezugspunkt</td>\n",
              "      <td>Syn(V)</td>\n",
              "      <td>ts_temp(Praes)</td>\n",
              "      <td>ts_modus(Ind)</td>\n",
              "      <td>ts_diath(aktiv)</td>\n",
              "      <td>ts_v_akt(state)</td>\n",
              "      <td>ts_neg–</td>\n",
              "      <td>ts_mv</td>\n",
              "      <td>ts_mv_lex(wollen;muessen)</td>\n",
              "      <td>ts_mv_rh(bul;circum)</td>\n",
              "      <td>ts_mv_rhg(root;root)</td>\n",
              "      <td>ts_no_vs</td>\n",
              "      <td>ts_no_modsadv</td>\n",
              "      <td>ts_no_mod_nom</td>\n",
              "      <td>ts_adj_nonfak</td>\n",
              "      <td>ts_no_mod_konstr</td>\n",
              "      <td>ts_no_modpart</td>\n",
              "      <td>ts_no_fokpart</td>\n",
              "      <td>ts_no_konjadv</td>\n",
              "      <td>ts_fakstat(nonfak)</td>\n",
              "      <td>ts_epigenstat(gener.nom)</td>\n",
              "      <td>ts_smood(deklarativ)</td>\n",
              "      <td>ts_no_source</td>\n",
              "      <td>ms_no</td>\n",
              "      <td>ms_no_temp</td>\n",
              "      <td>ms_no_modus</td>\n",
              "      <td>ms_no_neg</td>\n",
              "      <td>ms_no_mv</td>\n",
              "      <td>ms_no_mv_lex</td>\n",
              "      <td>ms_no_mv_rh</td>\n",
              "      <td>ms_no_mv_rhg</td>\n",
              "      <td>ms_no_vs</td>\n",
              "      <td>ms_no_modsadv</td>\n",
              "      <td>ms_no_mod_nom</td>\n",
              "      <td>ms_no_mod_adj</td>\n",
              "      <td>ms_no_mod_konstr</td>\n",
              "      <td>ms_no_modpart</td>\n",
              "      <td>ms_no_fokpart</td>\n",
              "      <td>ms_no_konjadv</td>\n",
              "      <td>ms_no_fakstat</td>\n",
              "      <td>ms_no_epigenstat</td>\n",
              "      <td>ms_no_smood</td>\n",
              "      <td>ms_no_source</td>\n",
              "    </tr>\n",
              "    <tr>\n",
              "      <th>2</th>\n",
              "      <td>bei</td>\n",
              "      <td>nzz_1996_07_17_a51_seg2_s5_hit1</td>\n",
              "      <td>** Bei dem Anschlag ** im Juli 1994 hätten meh...</td>\n",
              "      <td>zuordnung</td>\n",
              "      <td>Syn(V)</td>\n",
              "      <td>ts_temp(Praet)</td>\n",
              "      <td>ts_modus(KonII)</td>\n",
              "      <td>ts_diath(passiv)</td>\n",
              "      <td>ts_v_akt(state)</td>\n",
              "      <td>ts_no_neg</td>\n",
              "      <td>ts_mv</td>\n",
              "      <td>ts_mv_lex(sollen)</td>\n",
              "      <td>ts_mv_rh(teleo)</td>\n",
              "      <td>ts_mv_rhg(root)</td>\n",
              "      <td>ts_no_vs</td>\n",
              "      <td>ts_no_modsadv</td>\n",
              "      <td>ts_no_mod_nom</td>\n",
              "      <td>ts_no_mod_adj</td>\n",
              "      <td>ts_no_mod_konstr</td>\n",
              "      <td>ts_no_modpart</td>\n",
              "      <td>ts_no_fokpart</td>\n",
              "      <td>ts_no_konjadv</td>\n",
              "      <td>ts_fakstat(kfak)</td>\n",
              "      <td>ts_epigenstat(spez)</td>\n",
              "      <td>ts_smood(deklarativ)</td>\n",
              "      <td>ts_no_source</td>\n",
              "      <td>ms_no</td>\n",
              "      <td>ms_no_temp</td>\n",
              "      <td>ms_no_modus</td>\n",
              "      <td>ms_no_neg</td>\n",
              "      <td>ms_no_mv</td>\n",
              "      <td>ms_no_mv_lex</td>\n",
              "      <td>ms_no_mv_rh</td>\n",
              "      <td>ms_no_mv_rhg</td>\n",
              "      <td>ms_no_vs</td>\n",
              "      <td>ms_no_modsadv</td>\n",
              "      <td>ms_no_mod_nom</td>\n",
              "      <td>ms_no_mod_adj</td>\n",
              "      <td>ms_no_mod_konstr</td>\n",
              "      <td>ms_no_modpart</td>\n",
              "      <td>ms_no_fokpart</td>\n",
              "      <td>ms_no_konjadv</td>\n",
              "      <td>ms_no_fakstat</td>\n",
              "      <td>ms_no_epigenstat</td>\n",
              "      <td>ms_no_smood</td>\n",
              "      <td>ms_no_source</td>\n",
              "    </tr>\n",
              "    <tr>\n",
              "      <th>3</th>\n",
              "      <td>bei</td>\n",
              "      <td>nzz_1999_02_26_a41_seg3_s12_hit1</td>\n",
              "      <td>Deshalb sollen die logistischen und administra...</td>\n",
              "      <td>zuordnung</td>\n",
              "      <td>Syn(N)</td>\n",
              "      <td>ts_temp(Praes)</td>\n",
              "      <td>ts_modus(Ind)</td>\n",
              "      <td>ts_diath(passiv)</td>\n",
              "      <td>ts_v_akt(state)</td>\n",
              "      <td>ts_no_neg</td>\n",
              "      <td>ts_mv</td>\n",
              "      <td>ts_mv_lex(sollen)</td>\n",
              "      <td>ts_mv_rh(teleo)</td>\n",
              "      <td>ts_mv_rhg(root)</td>\n",
              "      <td>ts_no_vs</td>\n",
              "      <td>ts_no_modsadv</td>\n",
              "      <td>ts_no_mod_nom</td>\n",
              "      <td>ts_no_mod_adj</td>\n",
              "      <td>ts_no_mod_konstr</td>\n",
              "      <td>ts_no_modpart</td>\n",
              "      <td>ts_no_fokpart</td>\n",
              "      <td>ts_konjadv</td>\n",
              "      <td>ts_fakstat(nonfak)</td>\n",
              "      <td>ts_epigenstat(gener)</td>\n",
              "      <td>ts_smood(deklarativ)</td>\n",
              "      <td>ts_no_source</td>\n",
              "      <td>ms_no</td>\n",
              "      <td>ms_no_temp</td>\n",
              "      <td>ms_no_modus</td>\n",
              "      <td>ms_no_neg</td>\n",
              "      <td>ms_no_mv</td>\n",
              "      <td>ms_no_mv_lex</td>\n",
              "      <td>ms_no_mv_rh</td>\n",
              "      <td>ms_no_mv_rhg</td>\n",
              "      <td>ms_no_vs</td>\n",
              "      <td>ms_no_modsadv</td>\n",
              "      <td>ms_no_mod_nom</td>\n",
              "      <td>ms_no_mod_adj</td>\n",
              "      <td>ms_no_mod_konstr</td>\n",
              "      <td>ms_no_modpart</td>\n",
              "      <td>ms_no_fokpart</td>\n",
              "      <td>ms_no_konjadv</td>\n",
              "      <td>ms_no_fakstat</td>\n",
              "      <td>ms_no_epigenstat</td>\n",
              "      <td>ms_no_smood</td>\n",
              "      <td>ms_no_source</td>\n",
              "    </tr>\n",
              "    <tr>\n",
              "      <th>4</th>\n",
              "      <td>bei</td>\n",
              "      <td>nzz_1996_11_27_a132_seg44_s6_hit1</td>\n",
              "      <td>** Bei einem Album ** von Public Enemy müsse e...</td>\n",
              "      <td>zuordnung</td>\n",
              "      <td>Syn(V)</td>\n",
              "      <td>ts_temp(Praes)</td>\n",
              "      <td>ts_modus(KonI)</td>\n",
              "      <td>ts_diath(aktiv)</td>\n",
              "      <td>ts_v_akt(state)</td>\n",
              "      <td>ts_no_neg</td>\n",
              "      <td>ts_mv</td>\n",
              "      <td>ts_mv_lex(muessen)</td>\n",
              "      <td>ts_mv_rh(circum)</td>\n",
              "      <td>ts_mv_rhg(root)</td>\n",
              "      <td>ts_no_vs</td>\n",
              "      <td>ts_no_modsadv</td>\n",
              "      <td>ts_no_mod_nom</td>\n",
              "      <td>ts_no_mod_adj</td>\n",
              "      <td>ts_no_mod_konstr</td>\n",
              "      <td>ts_no_modpart</td>\n",
              "      <td>ts_fokpart(KDS:auch/nur/selbst)</td>\n",
              "      <td>ts_no_konjadv</td>\n",
              "      <td>ts_fakstat(nonfak)</td>\n",
              "      <td>ts_epigenstat(spez)</td>\n",
              "      <td>ts_smood(deklarativ)</td>\n",
              "      <td>ts_no_source</td>\n",
              "      <td>ms_no</td>\n",
              "      <td>ms_no_temp</td>\n",
              "      <td>ms_no_modus</td>\n",
              "      <td>ms_no_neg</td>\n",
              "      <td>ms_no_mv</td>\n",
              "      <td>ms_no_mv_lex</td>\n",
              "      <td>ms_no_mv_rh</td>\n",
              "      <td>ms_no_mv_rhg</td>\n",
              "      <td>ms_no_vs</td>\n",
              "      <td>ms_no_modsadv</td>\n",
              "      <td>ms_no_mod_nom</td>\n",
              "      <td>ms_no_mod_adj</td>\n",
              "      <td>ms_no_mod_konstr</td>\n",
              "      <td>ms_no_modpart</td>\n",
              "      <td>ms_no_fokpart</td>\n",
              "      <td>ms_no_konjadv</td>\n",
              "      <td>ms_no_fakstat</td>\n",
              "      <td>ms_no_epigenstat</td>\n",
              "      <td>ms_no_smood</td>\n",
              "      <td>ms_no_source</td>\n",
              "    </tr>\n",
              "    <tr>\n",
              "      <th>...</th>\n",
              "      <td>...</td>\n",
              "      <td>...</td>\n",
              "      <td>...</td>\n",
              "      <td>...</td>\n",
              "      <td>...</td>\n",
              "      <td>...</td>\n",
              "      <td>...</td>\n",
              "      <td>...</td>\n",
              "      <td>...</td>\n",
              "      <td>...</td>\n",
              "      <td>...</td>\n",
              "      <td>...</td>\n",
              "      <td>...</td>\n",
              "      <td>...</td>\n",
              "      <td>...</td>\n",
              "      <td>...</td>\n",
              "      <td>...</td>\n",
              "      <td>...</td>\n",
              "      <td>...</td>\n",
              "      <td>...</td>\n",
              "      <td>...</td>\n",
              "      <td>...</td>\n",
              "      <td>...</td>\n",
              "      <td>...</td>\n",
              "      <td>...</td>\n",
              "      <td>...</td>\n",
              "      <td>...</td>\n",
              "      <td>...</td>\n",
              "      <td>...</td>\n",
              "      <td>...</td>\n",
              "      <td>...</td>\n",
              "      <td>...</td>\n",
              "      <td>...</td>\n",
              "      <td>...</td>\n",
              "      <td>...</td>\n",
              "      <td>...</td>\n",
              "      <td>...</td>\n",
              "      <td>...</td>\n",
              "      <td>...</td>\n",
              "      <td>...</td>\n",
              "      <td>...</td>\n",
              "      <td>...</td>\n",
              "      <td>...</td>\n",
              "      <td>...</td>\n",
              "      <td>...</td>\n",
              "      <td>...</td>\n",
              "    </tr>\n",
              "    <tr>\n",
              "      <th>1014</th>\n",
              "      <td>ohne</td>\n",
              "      <td>nzz_1999_03_27_a252_seg4_s32_hit1</td>\n",
              "      <td>Alexei Urmanow , der Olympiasieger von 1994 , ...</td>\n",
              "      <td>kausal;modal-begleitumstand</td>\n",
              "      <td>Syn(V)</td>\n",
              "      <td>ts_temp(Praet)</td>\n",
              "      <td>ts_modus(Ind)</td>\n",
              "      <td>NaN</td>\n",
              "      <td>NaN</td>\n",
              "      <td>ts_no_neg</td>\n",
              "      <td>ts_mv</td>\n",
              "      <td>ts_mv_lex(muessen)</td>\n",
              "      <td>ts_mv_rh(circum)</td>\n",
              "      <td>ts_mv_rhg(root)</td>\n",
              "      <td>ts_no_vs</td>\n",
              "      <td>ts_no_modsadv</td>\n",
              "      <td>ts_no_mod_nom</td>\n",
              "      <td>ts_no_mod_adj</td>\n",
              "      <td>ts_no_mod_konstr</td>\n",
              "      <td>ts_modpart</td>\n",
              "      <td>ts_no_fokpart</td>\n",
              "      <td>ts_no_konjadv</td>\n",
              "      <td>ts_fakstat(fak)</td>\n",
              "      <td>ts_epigenstat(spez)</td>\n",
              "      <td>ts_smood(deklarativ)</td>\n",
              "      <td>ts_source</td>\n",
              "      <td>ms_no</td>\n",
              "      <td>ms_no_temp</td>\n",
              "      <td>ms_no_modus</td>\n",
              "      <td>ms_no_neg</td>\n",
              "      <td>ms_no_mv</td>\n",
              "      <td>ms_no_mv_lex</td>\n",
              "      <td>ms_no_mv_rh</td>\n",
              "      <td>ms_no_mv_rhg</td>\n",
              "      <td>ms_no_vs</td>\n",
              "      <td>ms_no_modsadv</td>\n",
              "      <td>ms_no_mod_nom</td>\n",
              "      <td>ms_no_mod_adj</td>\n",
              "      <td>ms_no_mod_konstr</td>\n",
              "      <td>ms_no_modpart</td>\n",
              "      <td>ms_no_fokpart</td>\n",
              "      <td>ms_no_konjadv</td>\n",
              "      <td>ms_no_fakstat</td>\n",
              "      <td>ms_no_epigenstat</td>\n",
              "      <td>ms_no_smood</td>\n",
              "      <td>ms_no_source</td>\n",
              "    </tr>\n",
              "    <tr>\n",
              "      <th>1015</th>\n",
              "      <td>ohne</td>\n",
              "      <td>nzz_1999_11_09_a140_seg3_s13_hit1</td>\n",
              "      <td>Männer dürfen ** ohne Kopfbedeckung ** den Fri...</td>\n",
              "      <td>konditional;beteiligung-komitativ</td>\n",
              "      <td>Syn(V)</td>\n",
              "      <td>ts_temp(Praes)</td>\n",
              "      <td>ts_modus(Ind)</td>\n",
              "      <td>NaN</td>\n",
              "      <td>NaN</td>\n",
              "      <td>ts_neg–</td>\n",
              "      <td>ts_mv</td>\n",
              "      <td>ts_mv_lex(duerfen)</td>\n",
              "      <td>ts_mv_rh(deon)</td>\n",
              "      <td>ts_mv_rhg(root)</td>\n",
              "      <td>ts_no_vs</td>\n",
              "      <td>ts_no_modsadv</td>\n",
              "      <td>ts_no_mod_nom</td>\n",
              "      <td>ts_no_mod_adj</td>\n",
              "      <td>ts_no_mod_konstr</td>\n",
              "      <td>ts_no_modpart</td>\n",
              "      <td>ts_no_fokpart</td>\n",
              "      <td>ts_no_konjadv</td>\n",
              "      <td>ts_fakstat(nonfak)</td>\n",
              "      <td>ts_epigenstat(gener)</td>\n",
              "      <td>ts_smood(deklarativ)</td>\n",
              "      <td>ts_no_source</td>\n",
              "      <td>ms_no</td>\n",
              "      <td>ms_no_temp</td>\n",
              "      <td>ms_no_modus</td>\n",
              "      <td>ms_no_neg</td>\n",
              "      <td>ms_no_mv</td>\n",
              "      <td>ms_no_mv_lex</td>\n",
              "      <td>ms_no_mv_rh</td>\n",
              "      <td>ms_no_mv_rhg</td>\n",
              "      <td>ms_no_vs</td>\n",
              "      <td>ms_no_modsadv</td>\n",
              "      <td>ms_no_mod_nom</td>\n",
              "      <td>ms_no_mod_adj</td>\n",
              "      <td>ms_no_mod_konstr</td>\n",
              "      <td>ms_no_modpart</td>\n",
              "      <td>ms_no_fokpart</td>\n",
              "      <td>ms_no_konjadv</td>\n",
              "      <td>ms_no_fakstat</td>\n",
              "      <td>ms_no_epigenstat</td>\n",
              "      <td>ms_no_smood</td>\n",
              "      <td>ms_no_source</td>\n",
              "    </tr>\n",
              "    <tr>\n",
              "      <th>1016</th>\n",
              "      <td>ohne</td>\n",
              "      <td>nzz_1999_03_29_a45_seg4_s14_hit1</td>\n",
              "      <td>Der Freiburger Historiker Urs Altermatt , Stif...</td>\n",
              "      <td>vorhandensein</td>\n",
              "      <td>Syn(N)</td>\n",
              "      <td>ts_temp(Praes)</td>\n",
              "      <td>ts_modus(KonI)</td>\n",
              "      <td>NaN</td>\n",
              "      <td>NaN</td>\n",
              "      <td>ts_no_neg</td>\n",
              "      <td>ts_mv</td>\n",
              "      <td>ts_mv_lex(wollen)</td>\n",
              "      <td>ts_mv_rh(bul)</td>\n",
              "      <td>ts_mv_rhg(root)</td>\n",
              "      <td>ts_no_vs</td>\n",
              "      <td>ts_no_modsadv</td>\n",
              "      <td>ts_no_mod_nom</td>\n",
              "      <td>ts_no_mod_adj</td>\n",
              "      <td>ts_no_mod_konstr</td>\n",
              "      <td>ts_no_modpart</td>\n",
              "      <td>ts_no_fokpart</td>\n",
              "      <td>ts_no_konjadv</td>\n",
              "      <td>ts_fakstat(nonfak)</td>\n",
              "      <td>ts_epigenstat(spez)</td>\n",
              "      <td>ts_smood(deklarativ)</td>\n",
              "      <td>ts_no_source</td>\n",
              "      <td>ms_yes</td>\n",
              "      <td>ms_temp(Praet)</td>\n",
              "      <td>ms_modus(Ind)</td>\n",
              "      <td>ms_no_neg</td>\n",
              "      <td>ms_no_mv</td>\n",
              "      <td>ms_no_mv_lex</td>\n",
              "      <td>ms_no_mv_rh</td>\n",
              "      <td>ms_no_mv_rhg</td>\n",
              "      <td>ms_vs_nonfak</td>\n",
              "      <td>ms_no_modsadv</td>\n",
              "      <td>ms_no_mod_nom</td>\n",
              "      <td>ms_no_mod_adj</td>\n",
              "      <td>ms_no_mod_konstr</td>\n",
              "      <td>ms_no_modpart</td>\n",
              "      <td>ms_no_fokpart</td>\n",
              "      <td>ms_no_konjadv</td>\n",
              "      <td>ms_fakstat(fak)</td>\n",
              "      <td>ms_epigenstat(spez)</td>\n",
              "      <td>ms_smood(deklarativ)</td>\n",
              "      <td>ms_source</td>\n",
              "    </tr>\n",
              "    <tr>\n",
              "      <th>1017</th>\n",
              "      <td>ohne</td>\n",
              "      <td>nzz_1999_11_12_a230_seg3_s20_hit1</td>\n",
              "      <td>** Ohne Monitor ** soll ein I-Paq ab 500 Dolla...</td>\n",
              "      <td>konditional</td>\n",
              "      <td>Syn(V)</td>\n",
              "      <td>ts_temp(Praes)</td>\n",
              "      <td>ts_modus(Ind)</td>\n",
              "      <td>NaN</td>\n",
              "      <td>NaN</td>\n",
              "      <td>ts_no_neg</td>\n",
              "      <td>ts_mv</td>\n",
              "      <td>ts_mv_lex(sollen)</td>\n",
              "      <td>ts_mv_rh(epist)</td>\n",
              "      <td>ts_mv_rhg(epist)</td>\n",
              "      <td>ts_no_vs</td>\n",
              "      <td>ts_no_modsadv</td>\n",
              "      <td>ts_no_mod_nom</td>\n",
              "      <td>ts_no_mod_adj</td>\n",
              "      <td>ts_konstr(mod_inf)</td>\n",
              "      <td>ts_no_modpart</td>\n",
              "      <td>ts_no_fokpart</td>\n",
              "      <td>ts_no_konjadv</td>\n",
              "      <td>ts_fakstat(nonfak)</td>\n",
              "      <td>ts_epigenstat(gener)</td>\n",
              "      <td>ts_smood(deklarativ)</td>\n",
              "      <td>ts_no_source</td>\n",
              "      <td>ms_no</td>\n",
              "      <td>ms_no_temp</td>\n",
              "      <td>ms_no_modus</td>\n",
              "      <td>ms_no_neg</td>\n",
              "      <td>ms_no_mv</td>\n",
              "      <td>ms_no_mv_lex</td>\n",
              "      <td>ms_no_mv_rh</td>\n",
              "      <td>ms_no_mv_rhg</td>\n",
              "      <td>ms_no_vs</td>\n",
              "      <td>ms_no_modsadv</td>\n",
              "      <td>ms_no_mod_nom</td>\n",
              "      <td>ms_no_mod_adj</td>\n",
              "      <td>ms_no_mod_konstr</td>\n",
              "      <td>ms_no_modpart</td>\n",
              "      <td>ms_no_fokpart</td>\n",
              "      <td>ms_no_konjadv</td>\n",
              "      <td>ms_no_fakstat</td>\n",
              "      <td>ms_no_epigenstat</td>\n",
              "      <td>ms_no_smood</td>\n",
              "      <td>ms_no_source</td>\n",
              "    </tr>\n",
              "    <tr>\n",
              "      <th>1018</th>\n",
              "      <td>ohne</td>\n",
              "      <td>nzz_1999_11_24_a207_seg3_s9_hit1</td>\n",
              "      <td>Die Tradition der « Abschiedsspiele » aber wur...</td>\n",
              "      <td>vorhandensein</td>\n",
              "      <td>Syn(N)</td>\n",
              "      <td>ts_temp(Praet)</td>\n",
              "      <td>ts_modus(Ind)</td>\n",
              "      <td>NaN</td>\n",
              "      <td>NaN</td>\n",
              "      <td>ts_no_neg</td>\n",
              "      <td>ts_mv</td>\n",
              "      <td>ts_mv_lex(koennen)</td>\n",
              "      <td>ts_mv_rh(teleo)</td>\n",
              "      <td>ts_mv_rhg(root)</td>\n",
              "      <td>ts_no_vs</td>\n",
              "      <td>ts_no_modsadv</td>\n",
              "      <td>ts_no_mod_nom</td>\n",
              "      <td>ts_no_mod_adj</td>\n",
              "      <td>ts_no_mod_konstr</td>\n",
              "      <td>ts_no_modpart</td>\n",
              "      <td>ts_no_fokpart</td>\n",
              "      <td>ts_no_konjadv</td>\n",
              "      <td>ts_fakstat(nonfak)</td>\n",
              "      <td>ts_epigenstat(spez)</td>\n",
              "      <td>ts_smood(deklarativ)</td>\n",
              "      <td>ts_no_source</td>\n",
              "      <td>ms_yes</td>\n",
              "      <td>ms_temp(Praet)</td>\n",
              "      <td>ms_modus(Ind)</td>\n",
              "      <td>ms_no_neg</td>\n",
              "      <td>ms_no_mv</td>\n",
              "      <td>ms_no_mv_lex</td>\n",
              "      <td>ms_no_mv_rh</td>\n",
              "      <td>ms_no_mv_rhg</td>\n",
              "      <td>ms_no_vs</td>\n",
              "      <td>ms_no_modsadv</td>\n",
              "      <td>ms_no_mod_nom</td>\n",
              "      <td>ms_no_mod_adj</td>\n",
              "      <td>ms_no_mod_konstr</td>\n",
              "      <td>ms_no_modpart</td>\n",
              "      <td>ms_no_fokpart</td>\n",
              "      <td>ms_konjadv</td>\n",
              "      <td>ms_fakstat(fak)</td>\n",
              "      <td>ms_epigenstat(spez)</td>\n",
              "      <td>ms_smood(deklarativ)</td>\n",
              "      <td>ms_no_source</td>\n",
              "    </tr>\n",
              "  </tbody>\n",
              "</table>\n",
              "<p>1015 rows × 46 columns</p>\n",
              "</div>"
            ],
            "text/plain": [
              "     Präposition  ...     MS.Source\n",
              "0            bei  ...  ms_no_source\n",
              "1            bei  ...  ms_no_source\n",
              "2            bei  ...  ms_no_source\n",
              "3            bei  ...  ms_no_source\n",
              "4            bei  ...  ms_no_source\n",
              "...          ...  ...           ...\n",
              "1014        ohne  ...  ms_no_source\n",
              "1015        ohne  ...  ms_no_source\n",
              "1016        ohne  ...     ms_source\n",
              "1017        ohne  ...  ms_no_source\n",
              "1018        ohne  ...  ms_no_source\n",
              "\n",
              "[1015 rows x 46 columns]"
            ]
          },
          "metadata": {
            "tags": []
          },
          "execution_count": 16
        }
      ]
    },
    {
      "cell_type": "code",
      "metadata": {
        "id": "rJkOJRn6WW36",
        "colab_type": "code",
        "outputId": "76d67825-77ff-4b87-e6dd-c6deeafcbe36",
        "colab": {
          "base_uri": "https://localhost:8080/",
          "height": 830
        }
      },
      "source": [
        "# DF Modal Verb found in Matrix Sentence\n",
        "\n",
        "df_modals_onlyMS = df[df['MS.Modalverb'] == 'ms_mv'] \n",
        "#df_modals_onlyMS"
      ],
      "execution_count": 0,
      "outputs": [
        {
          "output_type": "execute_result",
          "data": {
            "text/html": [
              "<div>\n",
              "<style scoped>\n",
              "    .dataframe tbody tr th:only-of-type {\n",
              "        vertical-align: middle;\n",
              "    }\n",
              "\n",
              "    .dataframe tbody tr th {\n",
              "        vertical-align: top;\n",
              "    }\n",
              "\n",
              "    .dataframe thead th {\n",
              "        text-align: right;\n",
              "    }\n",
              "</style>\n",
              "<table border=\"1\" class=\"dataframe\">\n",
              "  <thead>\n",
              "    <tr style=\"text-align: right;\">\n",
              "      <th></th>\n",
              "      <th>Präposition</th>\n",
              "      <th>global_id</th>\n",
              "      <th>kontext</th>\n",
              "      <th>Prep.Meaning</th>\n",
              "      <th>Syn.Dep</th>\n",
              "      <th>TS.V.Temp</th>\n",
              "      <th>TS.V.Modus</th>\n",
              "      <th>TS.V.Diath</th>\n",
              "      <th>TS.V.Aktionsart</th>\n",
              "      <th>TS.Negation</th>\n",
              "      <th>TS.Modalverb</th>\n",
              "      <th>TS.Modalverb.Lex</th>\n",
              "      <th>TS.Mod.Les.sp</th>\n",
              "      <th>TS.Mod.Les.gr</th>\n",
              "      <th>TS.Verbsem</th>\n",
              "      <th>TS.Satzadv</th>\n",
              "      <th>TS.Nomsem</th>\n",
              "      <th>TS.Adjsem</th>\n",
              "      <th>TS.Konstruktion</th>\n",
              "      <th>TS.Modalpartikeln</th>\n",
              "      <th>TS.Fokuspartikeln</th>\n",
              "      <th>TS.Konjadv</th>\n",
              "      <th>TS.Faktivitaet</th>\n",
              "      <th>TS.Gener.Episod</th>\n",
              "      <th>TS.Satzmodus</th>\n",
              "      <th>TS.Source</th>\n",
              "      <th>MS.vorhanden</th>\n",
              "      <th>MS.V.Temp</th>\n",
              "      <th>MS.V.Modus</th>\n",
              "      <th>MS.Negation</th>\n",
              "      <th>MS.Modalverb</th>\n",
              "      <th>MS.Modalverb.Lex</th>\n",
              "      <th>MS.Mod.Les.sp</th>\n",
              "      <th>MS.Mod.Les.gr</th>\n",
              "      <th>MS.Verbsem</th>\n",
              "      <th>MS.Satzadv</th>\n",
              "      <th>MS.Nomsem</th>\n",
              "      <th>MS.Adjsem</th>\n",
              "      <th>MS.Konstruktion</th>\n",
              "      <th>MS.Modalpartikeln</th>\n",
              "      <th>MS.Fokpuspartikeln</th>\n",
              "      <th>MS.Konjadv</th>\n",
              "      <th>MS.Faktivitaet</th>\n",
              "      <th>MS.Gener.Episod</th>\n",
              "      <th>MS.Satzmodus</th>\n",
              "      <th>MS.Source</th>\n",
              "    </tr>\n",
              "  </thead>\n",
              "  <tbody>\n",
              "    <tr>\n",
              "      <th>5</th>\n",
              "      <td>bei</td>\n",
              "      <td>nzz_1996_10_01_a100_seg11_s3_hit1</td>\n",
              "      <td>Damit wird aber übersehen , dass diese Obligat...</td>\n",
              "      <td>konditional</td>\n",
              "      <td>Syn(V)</td>\n",
              "      <td>ts_temp(Praes)</td>\n",
              "      <td>ts_modus(Ind)</td>\n",
              "      <td>ts_diath(passiv)</td>\n",
              "      <td>ts_v_akt(state)</td>\n",
              "      <td>ts_no_neg</td>\n",
              "      <td>ts_mv</td>\n",
              "      <td>ts_mv_lex(koennen)</td>\n",
              "      <td>ts_mv_rh(circum)</td>\n",
              "      <td>ts_mv_rhg(root)</td>\n",
              "      <td>ts_no_vs</td>\n",
              "      <td>ts_no_modsadv</td>\n",
              "      <td>ts_nom_nonfak</td>\n",
              "      <td>ts_no_mod_adj</td>\n",
              "      <td>ts_no_mod_konstr</td>\n",
              "      <td>ts_no_modpart</td>\n",
              "      <td>ts_no_fokpart</td>\n",
              "      <td>ts_no_konjadv</td>\n",
              "      <td>ts_fakstat(nonfak)</td>\n",
              "      <td>ts_epigenstat(gener)</td>\n",
              "      <td>ts_no_smood</td>\n",
              "      <td>ts_no_source</td>\n",
              "      <td>ms_yes</td>\n",
              "      <td>ms_temp(Praes)</td>\n",
              "      <td>ms_modus(Ind)</td>\n",
              "      <td>ms_neg–</td>\n",
              "      <td>ms_mv</td>\n",
              "      <td>ms_mv_lex(muessen)</td>\n",
              "      <td>ms_mv_rh(deon)</td>\n",
              "      <td>ms_mv_rhg(root)</td>\n",
              "      <td>ms_vs_kfak</td>\n",
              "      <td>ms_no_modsadv</td>\n",
              "      <td>ms_no_mod_nom</td>\n",
              "      <td>ms_no_mod_adj</td>\n",
              "      <td>ms_no_mod_konstr</td>\n",
              "      <td>ms_no_modpart</td>\n",
              "      <td>ms_no_fokpart</td>\n",
              "      <td>ms_konjadv</td>\n",
              "      <td>ms_fakstat(nonfak)</td>\n",
              "      <td>ms_epigenstat(gener)</td>\n",
              "      <td>ms_smood(deklarativ)</td>\n",
              "      <td>ms_no_source</td>\n",
              "    </tr>\n",
              "    <tr>\n",
              "      <th>82</th>\n",
              "      <td>bei</td>\n",
              "      <td>nzz_1999_06_11_a34_seg1_s22_hit1</td>\n",
              "      <td>Schliesslich stellen sich aber auch bei der Re...</td>\n",
              "      <td>regiert</td>\n",
              "      <td>Syn(V)</td>\n",
              "      <td>ts_temp(Praes)</td>\n",
              "      <td>ts_modus(Ind)</td>\n",
              "      <td>ts_diath(aktiv)</td>\n",
              "      <td>ts_v_akt(state)</td>\n",
              "      <td>ts_neg–</td>\n",
              "      <td>ts_mv</td>\n",
              "      <td>ts_mv_lex(wollen)</td>\n",
              "      <td>ts_mv_rh(bul)</td>\n",
              "      <td>ts_mv_rhg(root)</td>\n",
              "      <td>ts_vs_fak</td>\n",
              "      <td>ts_no_modsadv</td>\n",
              "      <td>ts_no_mod_nom</td>\n",
              "      <td>ts_no_mod_adj</td>\n",
              "      <td>ts_no_mod_konstr</td>\n",
              "      <td>ts_no_modpart</td>\n",
              "      <td>ts_no_fokpart</td>\n",
              "      <td>ts_no_konjadv</td>\n",
              "      <td>ts_fakstat(nonfak)</td>\n",
              "      <td>ts_epigenstat(gener)</td>\n",
              "      <td>ts_no_smood</td>\n",
              "      <td>ts_no_source</td>\n",
              "      <td>ms_yes</td>\n",
              "      <td>ms_temp(Praes)</td>\n",
              "      <td>ms_modus(Ind)</td>\n",
              "      <td>ms_no_neg</td>\n",
              "      <td>ms_mv</td>\n",
              "      <td>ms_mv_lex(muessen)</td>\n",
              "      <td>ms_mv_rh(teleo)</td>\n",
              "      <td>ms_mv_rhg(root)</td>\n",
              "      <td>ms_no_vs</td>\n",
              "      <td>ms_no_modsadv</td>\n",
              "      <td>ms_nom_fak</td>\n",
              "      <td>ms_no_mod_adj</td>\n",
              "      <td>ms_no_mod_konstr</td>\n",
              "      <td>ms_no_modpart</td>\n",
              "      <td>ms_fokpart</td>\n",
              "      <td>ms_konjadv</td>\n",
              "      <td>ms_fakstat(fak;nonfak)</td>\n",
              "      <td>ms_epigenstat(gener)</td>\n",
              "      <td>ms_smood(deklarativ)</td>\n",
              "      <td>ms_no_source</td>\n",
              "    </tr>\n",
              "    <tr>\n",
              "      <th>86</th>\n",
              "      <td>bei</td>\n",
              "      <td>nzz_1999_06_08_a88_seg8_s7_hit1</td>\n",
              "      <td>Dieses habe den Vorteil , dass frühere Verfehl...</td>\n",
              "      <td>zuordnung</td>\n",
              "      <td>Syn(Kon)</td>\n",
              "      <td>ts_temp(Praes)</td>\n",
              "      <td>ts_modus(KonI)</td>\n",
              "      <td>ts_diath(aktiv)</td>\n",
              "      <td>ts_v_akt(state)</td>\n",
              "      <td>ts_no_neg</td>\n",
              "      <td>ts_mv</td>\n",
              "      <td>ts_mv_lex(koennen)</td>\n",
              "      <td>ts_mv_rh(circum)</td>\n",
              "      <td>ts_mv_rhg(root)</td>\n",
              "      <td>ts_vs_fak</td>\n",
              "      <td>ts_no_modsadv</td>\n",
              "      <td>ts_nom_nonfak</td>\n",
              "      <td>ts_no_mod_adj</td>\n",
              "      <td>ts_no_mod_konstr</td>\n",
              "      <td>ts_no_modpart</td>\n",
              "      <td>ts_no_fokpart</td>\n",
              "      <td>ts_konjadv</td>\n",
              "      <td>ts_fakstat(nonfak)</td>\n",
              "      <td>ts_epigenstat(spez)</td>\n",
              "      <td>ts_no_smood</td>\n",
              "      <td>ts_no_source</td>\n",
              "      <td>ms_yes</td>\n",
              "      <td>ms_temp(Praes;Praes)</td>\n",
              "      <td>ms_modus(KonI;KonII)</td>\n",
              "      <td>ms_no_neg</td>\n",
              "      <td>ms_mv</td>\n",
              "      <td>ms_mv_lex(muessen)</td>\n",
              "      <td>ms_mv_rh(epist)</td>\n",
              "      <td>ms_mv_rhg(epist)</td>\n",
              "      <td>ms_no_vs</td>\n",
              "      <td>ms_no_modsadv</td>\n",
              "      <td>ms_nom_fak</td>\n",
              "      <td>ms_no_mod_adj</td>\n",
              "      <td>ms_no_mod_konstr</td>\n",
              "      <td>ms_no_modpart</td>\n",
              "      <td>ms_no_fokpart</td>\n",
              "      <td>ms_konjadv</td>\n",
              "      <td>ms_fakstat(nonfak)</td>\n",
              "      <td>ms_epigenstat(spez)</td>\n",
              "      <td>ms_smood(deklarativ)</td>\n",
              "      <td>ms_no_source</td>\n",
              "    </tr>\n",
              "    <tr>\n",
              "      <th>91</th>\n",
              "      <td>bei</td>\n",
              "      <td>nzz_1997_08_14_a31_seg2_s4_hit1</td>\n",
              "      <td>Blocher erklärte dem Journalisten , dass man G...</td>\n",
              "      <td>bezugspunkt</td>\n",
              "      <td>Syn(V)</td>\n",
              "      <td>ts_temp(Praes)</td>\n",
              "      <td>ts_modus(KonI)</td>\n",
              "      <td>ts_diath(aktiv)</td>\n",
              "      <td>ts_v_akt(state)</td>\n",
              "      <td>ts_no_neg</td>\n",
              "      <td>ts_mv</td>\n",
              "      <td>ts_mv_lex(muessen)</td>\n",
              "      <td>ts_mv_rh(deon)</td>\n",
              "      <td>ts_mv_rhg(root)</td>\n",
              "      <td>ts_vs_fak</td>\n",
              "      <td>ts_no_modsadv</td>\n",
              "      <td>ts_no_mod_nom</td>\n",
              "      <td>ts_no_mod_adj</td>\n",
              "      <td>ts_no_mod_konstr</td>\n",
              "      <td>ts_no_modpart</td>\n",
              "      <td>ts_no_fokpart</td>\n",
              "      <td>ts_no_konjadv</td>\n",
              "      <td>ts_fakstat(nonfak)</td>\n",
              "      <td>ts_epigenstat(gener)</td>\n",
              "      <td>ts_no_smood</td>\n",
              "      <td>ts_no_source</td>\n",
              "      <td>ms_yes</td>\n",
              "      <td>ms_temp(Praet)</td>\n",
              "      <td>ms_modus(Ind)</td>\n",
              "      <td>ms_dopneg</td>\n",
              "      <td>ms_mv</td>\n",
              "      <td>ms_mv_lex(koennen)</td>\n",
              "      <td>ms_mv_rh(circum)</td>\n",
              "      <td>ms_mv_rhg(root)</td>\n",
              "      <td>ms_vs_nonfak</td>\n",
              "      <td>ms_no_modsadv</td>\n",
              "      <td>ms_no_mod_nom</td>\n",
              "      <td>ms_no_mod_adj</td>\n",
              "      <td>ms_no_mod_konstr</td>\n",
              "      <td>ms_no_modpart</td>\n",
              "      <td>ms_fokpart</td>\n",
              "      <td>ms_no_konjadv</td>\n",
              "      <td>ms_fakstat(nonfak)</td>\n",
              "      <td>ms_epigenstat(spez)</td>\n",
              "      <td>ms_smood(deklarativ)</td>\n",
              "      <td>ms_source</td>\n",
              "    </tr>\n",
              "    <tr>\n",
              "      <th>131</th>\n",
              "      <td>bei</td>\n",
              "      <td>nzz_1997_05_21_a147_seg11_s6_hit1</td>\n",
              "      <td>- Man mag über das Ausmass eines sinnvollen Da...</td>\n",
              "      <td>konditional</td>\n",
              "      <td>Syn(N)</td>\n",
              "      <td>ts_temp(Praes)</td>\n",
              "      <td>ts_modus(Ind)</td>\n",
              "      <td>ts_diath(aktiv)</td>\n",
              "      <td>ts_v_akt(state)</td>\n",
              "      <td>ts_no_neg</td>\n",
              "      <td>ts_mv</td>\n",
              "      <td>ts_mv_lex(sollen)</td>\n",
              "      <td>ts_mv_rh(evid)</td>\n",
              "      <td>ts_mv_rhg(epist)</td>\n",
              "      <td>ts_no_vs</td>\n",
              "      <td>ts_no_modsadv</td>\n",
              "      <td>ts_no_mod_nom</td>\n",
              "      <td>ts_no_mod_adj</td>\n",
              "      <td>ts_no_mod_konstr</td>\n",
              "      <td>ts_no_modpart</td>\n",
              "      <td>ts_no_fokpart</td>\n",
              "      <td>ts_no_konjadv</td>\n",
              "      <td>ts_fakstat(nonfak)</td>\n",
              "      <td>ts_epigenstat(gener)</td>\n",
              "      <td>ts_no_smood</td>\n",
              "      <td>ts_no_source</td>\n",
              "      <td>ms_yes</td>\n",
              "      <td>ms_temp(Praes)</td>\n",
              "      <td>ms_modus(Ind)</td>\n",
              "      <td>ms_neg–</td>\n",
              "      <td>ms_mv</td>\n",
              "      <td>ms_mv_lex(moegen)</td>\n",
              "      <td>ms_mv_rh(circum)</td>\n",
              "      <td>ms_mv_rhg(root)</td>\n",
              "      <td>ms_vs_fak</td>\n",
              "      <td>ms_no_modsadv</td>\n",
              "      <td>ms_nom_fak</td>\n",
              "      <td>ms_no_mod_adj</td>\n",
              "      <td>ms_no_mod_konstr</td>\n",
              "      <td>ms_no_modpart</td>\n",
              "      <td>ms_no_fokpart</td>\n",
              "      <td>ms_konjadv</td>\n",
              "      <td>ms_fakstat(kfak)</td>\n",
              "      <td>ms_epigenstat(gener)</td>\n",
              "      <td>ms_smood(deklarativ)</td>\n",
              "      <td>ms_no_source</td>\n",
              "    </tr>\n",
              "    <tr>\n",
              "      <th>...</th>\n",
              "      <td>...</td>\n",
              "      <td>...</td>\n",
              "      <td>...</td>\n",
              "      <td>...</td>\n",
              "      <td>...</td>\n",
              "      <td>...</td>\n",
              "      <td>...</td>\n",
              "      <td>...</td>\n",
              "      <td>...</td>\n",
              "      <td>...</td>\n",
              "      <td>...</td>\n",
              "      <td>...</td>\n",
              "      <td>...</td>\n",
              "      <td>...</td>\n",
              "      <td>...</td>\n",
              "      <td>...</td>\n",
              "      <td>...</td>\n",
              "      <td>...</td>\n",
              "      <td>...</td>\n",
              "      <td>...</td>\n",
              "      <td>...</td>\n",
              "      <td>...</td>\n",
              "      <td>...</td>\n",
              "      <td>...</td>\n",
              "      <td>...</td>\n",
              "      <td>...</td>\n",
              "      <td>...</td>\n",
              "      <td>...</td>\n",
              "      <td>...</td>\n",
              "      <td>...</td>\n",
              "      <td>...</td>\n",
              "      <td>...</td>\n",
              "      <td>...</td>\n",
              "      <td>...</td>\n",
              "      <td>...</td>\n",
              "      <td>...</td>\n",
              "      <td>...</td>\n",
              "      <td>...</td>\n",
              "      <td>...</td>\n",
              "      <td>...</td>\n",
              "      <td>...</td>\n",
              "      <td>...</td>\n",
              "      <td>...</td>\n",
              "      <td>...</td>\n",
              "      <td>...</td>\n",
              "      <td>...</td>\n",
              "    </tr>\n",
              "    <tr>\n",
              "      <th>1245</th>\n",
              "      <td>ohne</td>\n",
              "      <td>nzz_1993_11_15_a224_seg2_s1_hit1</td>\n",
              "      <td>K. R. Nachdem in Wädenswil für 1992 und für 19...</td>\n",
              "      <td>restriktiv</td>\n",
              "      <td>Syn(N)</td>\n",
              "      <td>ts_temp(Praes)</td>\n",
              "      <td>ts_modus(Ind)</td>\n",
              "      <td>NaN</td>\n",
              "      <td>NaN</td>\n",
              "      <td>ts_no_neg</td>\n",
              "      <td>ts_no_mv</td>\n",
              "      <td>ts_no_mv_lex</td>\n",
              "      <td>ts_no_mv_rh</td>\n",
              "      <td>ts_no_mv_rhg</td>\n",
              "      <td>ts_vs_nonfak</td>\n",
              "      <td>ts_no_modsadv</td>\n",
              "      <td>ts_no_mod_nom</td>\n",
              "      <td>ts_no_mod_adj</td>\n",
              "      <td>ts_no_mod_konstr</td>\n",
              "      <td>ts_no_modpart</td>\n",
              "      <td>ts_no_fokpart</td>\n",
              "      <td>ts_no_konjadv</td>\n",
              "      <td>ts_fakstat(nonfak)</td>\n",
              "      <td>ts_epigenstat(spez)</td>\n",
              "      <td>ts_smood(deklarativ)</td>\n",
              "      <td>ts_no_source</td>\n",
              "      <td>ms_yes</td>\n",
              "      <td>ms_temp(Praes)</td>\n",
              "      <td>ms_modus(Ind)</td>\n",
              "      <td>ms_no_neg</td>\n",
              "      <td>ms_mv</td>\n",
              "      <td>ms_mv_lex(koennen)</td>\n",
              "      <td>ms_mv_rh(circum)</td>\n",
              "      <td>ms_mv_rhg(root)</td>\n",
              "      <td>ms_vs_nonfak</td>\n",
              "      <td>ms_no_modsadv</td>\n",
              "      <td>ms_no_mod_nom</td>\n",
              "      <td>ms_no_mod_adj</td>\n",
              "      <td>ms_no_mod_konstr</td>\n",
              "      <td>ms_no_modpart</td>\n",
              "      <td>ms_no_fokpart</td>\n",
              "      <td>ms_no_konjadv</td>\n",
              "      <td>ms_fakstat(fak)</td>\n",
              "      <td>ms_epigenstat(spez)</td>\n",
              "      <td>ms_smood(deklarativ)</td>\n",
              "      <td>ms_no_source</td>\n",
              "    </tr>\n",
              "    <tr>\n",
              "      <th>1246</th>\n",
              "      <td>ohne</td>\n",
              "      <td>nzz_1994_01_15_a207_seg4_s5_hit1</td>\n",
              "      <td>Mein Kollege , ein bestandener Dschungelexpert...</td>\n",
              "      <td>modal-art_und_weise;beteiligung-komitativ</td>\n",
              "      <td>Syn(V_Koor)</td>\n",
              "      <td>ts_temp(Plus)</td>\n",
              "      <td>ts_modus(Ind)</td>\n",
              "      <td>NaN</td>\n",
              "      <td>NaN</td>\n",
              "      <td>ts_no_neg</td>\n",
              "      <td>ts_no_mv</td>\n",
              "      <td>ts_no_mv_lex</td>\n",
              "      <td>ts_no_mv_rh</td>\n",
              "      <td>ts_no_mv_rhg</td>\n",
              "      <td>ts_no_vs</td>\n",
              "      <td>ts_no_modsadv</td>\n",
              "      <td>ts_no_mod_nom</td>\n",
              "      <td>ts_no_mod_adj</td>\n",
              "      <td>ts_no_mod_konstr</td>\n",
              "      <td>ts_no_modpart</td>\n",
              "      <td>ts_no_fokpart</td>\n",
              "      <td>ts_no_konjadv</td>\n",
              "      <td>ts_fakstat(fak)</td>\n",
              "      <td>ts_epigenstat(spez)</td>\n",
              "      <td>ts_smood(deklarativ)</td>\n",
              "      <td>ts_no_source</td>\n",
              "      <td>ms_yes</td>\n",
              "      <td>ms_temp(Praes)</td>\n",
              "      <td>ms_modus(Ind)</td>\n",
              "      <td>ms_dopneg</td>\n",
              "      <td>ms_mv</td>\n",
              "      <td>ms_mv_lex(koennen)</td>\n",
              "      <td>ms_mv_rh(circum)</td>\n",
              "      <td>ms_mv_rhg(root)</td>\n",
              "      <td>ms_vs_nonfak</td>\n",
              "      <td>ms_no_modsadv</td>\n",
              "      <td>ms_no_mod_nom</td>\n",
              "      <td>ms_no_mod_adj</td>\n",
              "      <td>ms_no_mod_konstr</td>\n",
              "      <td>ms_no_modpart</td>\n",
              "      <td>ms_no_fokpart</td>\n",
              "      <td>ms_no_konjadv</td>\n",
              "      <td>ms_fakstat(nonfak)</td>\n",
              "      <td>ms_epigenstat(gener)</td>\n",
              "      <td>ms_smood(deklarativ)</td>\n",
              "      <td>ms_source</td>\n",
              "    </tr>\n",
              "    <tr>\n",
              "      <th>1247</th>\n",
              "      <td>ohne</td>\n",
              "      <td>nzz_1994_01_12_a109_seg3_s1_hit1</td>\n",
              "      <td>Bern , 11. Jan. ( sda ) Junge Leute , die nach...</td>\n",
              "      <td>vorhandensein</td>\n",
              "      <td>Syn(V_Praed)</td>\n",
              "      <td>ts_temp(Praes)</td>\n",
              "      <td>ts_modus(Ind)</td>\n",
              "      <td>NaN</td>\n",
              "      <td>NaN</td>\n",
              "      <td>ts_no_neg</td>\n",
              "      <td>ts_no_mv</td>\n",
              "      <td>ts_no_mv_lex</td>\n",
              "      <td>ts_no_mv_rh</td>\n",
              "      <td>ts_no_mv_rhg</td>\n",
              "      <td>ts_no_vs</td>\n",
              "      <td>ts_no_modsadv</td>\n",
              "      <td>ts_no_mod_nom</td>\n",
              "      <td>ts_no_mod_adj</td>\n",
              "      <td>ts_no_mod_konstr</td>\n",
              "      <td>ts_no_modpart</td>\n",
              "      <td>ts_no_fokpart</td>\n",
              "      <td>ts_no_konjadv</td>\n",
              "      <td>ts_fakstat(nonfak)</td>\n",
              "      <td>ts_epigenstat(gener)</td>\n",
              "      <td>ts_no_smood</td>\n",
              "      <td>ts_no_source</td>\n",
              "      <td>ms_yes</td>\n",
              "      <td>ms_temp(Praes)</td>\n",
              "      <td>ms_modus(Ind)</td>\n",
              "      <td>ms_no_neg</td>\n",
              "      <td>ms_mv</td>\n",
              "      <td>ms_mv_lex(sollen)</td>\n",
              "      <td>ms_mv_rh(deon)</td>\n",
              "      <td>ms_mv_rhg(root)</td>\n",
              "      <td>ms_no_vs</td>\n",
              "      <td>ms_no_modsadv</td>\n",
              "      <td>ms_no_mod_nom</td>\n",
              "      <td>ms_no_mod_adj</td>\n",
              "      <td>ms_no_mod_konstr</td>\n",
              "      <td>ms_no_modpart</td>\n",
              "      <td>ms_no_fokpart</td>\n",
              "      <td>ms_no_konjadv</td>\n",
              "      <td>ms_fakstat(nonfak)</td>\n",
              "      <td>ms_epigenstat(gener)</td>\n",
              "      <td>ms_smood(deklarativ)</td>\n",
              "      <td>ms_source</td>\n",
              "    </tr>\n",
              "    <tr>\n",
              "      <th>1248</th>\n",
              "      <td>ohne</td>\n",
              "      <td>nzz_1994_09_13_a109_seg3_s4_hit1</td>\n",
              "      <td>Demgegenüber schien sich in Tatlins Vision das...</td>\n",
              "      <td>konditional</td>\n",
              "      <td>Syn(A_Praed)</td>\n",
              "      <td>ts_temp(Praes)</td>\n",
              "      <td>ts_modus(KonI)</td>\n",
              "      <td>NaN</td>\n",
              "      <td>NaN</td>\n",
              "      <td>ts_neg</td>\n",
              "      <td>ts_no_mv</td>\n",
              "      <td>ts_no_mv_lex</td>\n",
              "      <td>ts_no_mv_rh</td>\n",
              "      <td>ts_no_mv_rhg</td>\n",
              "      <td>ts_no_vs</td>\n",
              "      <td>ts_no_modsadv</td>\n",
              "      <td>ts_no_mod_nom</td>\n",
              "      <td>ts_adj_nonfak</td>\n",
              "      <td>ts_no_mod_konstr</td>\n",
              "      <td>ts_no_modpart</td>\n",
              "      <td>ts_no_fokpart</td>\n",
              "      <td>ts_no_konjadv</td>\n",
              "      <td>ts_fakstat(nonfak)</td>\n",
              "      <td>ts_epigenstat(spez)</td>\n",
              "      <td>ts_smood(deklarativ)</td>\n",
              "      <td>ts_no_source</td>\n",
              "      <td>ms_yes</td>\n",
              "      <td>ms_temp(Praet)</td>\n",
              "      <td>ms_modus(Ind)</td>\n",
              "      <td>ms_no_neg</td>\n",
              "      <td>ms_mv</td>\n",
              "      <td>ms_mv_lex(scheinen)</td>\n",
              "      <td>ms_mv_rh(evid)</td>\n",
              "      <td>ms_mv_rhg(epist)</td>\n",
              "      <td>ms_no_vs</td>\n",
              "      <td>ms_no_modsadv</td>\n",
              "      <td>ms_nom_nonfak;nonfak</td>\n",
              "      <td>ms_no_mod_adj</td>\n",
              "      <td>ms_no_mod_konstr</td>\n",
              "      <td>ms_no_modpart</td>\n",
              "      <td>ms_no_fokpart</td>\n",
              "      <td>ms_no_konjadv</td>\n",
              "      <td>ms_fakstat(nonfak)</td>\n",
              "      <td>ms_epigenstat(spez)</td>\n",
              "      <td>ms_smood(deklarativ)</td>\n",
              "      <td>ms_no_source</td>\n",
              "    </tr>\n",
              "    <tr>\n",
              "      <th>1249</th>\n",
              "      <td>ohne</td>\n",
              "      <td>nzz_1994_09_17_a95_seg5_s1_hit1</td>\n",
              "      <td>Nach den bisherigen Erfahrungen mit dem Instru...</td>\n",
              "      <td>modal-art_und_weise</td>\n",
              "      <td>Syn(V)</td>\n",
              "      <td>ts_temp(Praes)</td>\n",
              "      <td>ts_modus(Ind)</td>\n",
              "      <td>NaN</td>\n",
              "      <td>NaN</td>\n",
              "      <td>ts_no_neg</td>\n",
              "      <td>ts_no_mv</td>\n",
              "      <td>ts_no_mv_lex</td>\n",
              "      <td>ts_no_mv_rh</td>\n",
              "      <td>ts_no_mv_rhg</td>\n",
              "      <td>ts_no_vs</td>\n",
              "      <td>ts_no_modsadv</td>\n",
              "      <td>ts_no_mod_nom</td>\n",
              "      <td>ts_adj_nonfak</td>\n",
              "      <td>ts_no_mod_konstr</td>\n",
              "      <td>ts_no_modpart</td>\n",
              "      <td>ts_no_fokpart</td>\n",
              "      <td>ts_no_konjadv</td>\n",
              "      <td>ts_fakstat(nonfak)</td>\n",
              "      <td>ts_epigenstat(spez)</td>\n",
              "      <td>ts_smood(deklarativ)</td>\n",
              "      <td>ts_no_source</td>\n",
              "      <td>ms_yes</td>\n",
              "      <td>ms_temp(Praes)</td>\n",
              "      <td>ms_modus(KonII)</td>\n",
              "      <td>ms_no_neg</td>\n",
              "      <td>ms_mv</td>\n",
              "      <td>ms_mv_lex(wollen)</td>\n",
              "      <td>ms_mv_rh(bul)</td>\n",
              "      <td>ms_mv_rhg(root)</td>\n",
              "      <td>ms_no_vs</td>\n",
              "      <td>ms_modsadv_fak</td>\n",
              "      <td>ms_no_mod_nom</td>\n",
              "      <td>ms_no_mod_adj</td>\n",
              "      <td>ms_no_mod_konstr</td>\n",
              "      <td>ms_no_modpart</td>\n",
              "      <td>ms_no_fokpart</td>\n",
              "      <td>ms_no_konjadv</td>\n",
              "      <td>ms_fakstat(nonfak)</td>\n",
              "      <td>ms_epigenstat(gener.nom)</td>\n",
              "      <td>ms_smood(deklarativ)</td>\n",
              "      <td>ms_no_source</td>\n",
              "    </tr>\n",
              "  </tbody>\n",
              "</table>\n",
              "<p>281 rows × 46 columns</p>\n",
              "</div>"
            ],
            "text/plain": [
              "     Präposition  ...     MS.Source\n",
              "5            bei  ...  ms_no_source\n",
              "82           bei  ...  ms_no_source\n",
              "86           bei  ...  ms_no_source\n",
              "91           bei  ...     ms_source\n",
              "131          bei  ...  ms_no_source\n",
              "...          ...  ...           ...\n",
              "1245        ohne  ...  ms_no_source\n",
              "1246        ohne  ...     ms_source\n",
              "1247        ohne  ...     ms_source\n",
              "1248        ohne  ...  ms_no_source\n",
              "1249        ohne  ...  ms_no_source\n",
              "\n",
              "[281 rows x 46 columns]"
            ]
          },
          "metadata": {
            "tags": []
          },
          "execution_count": 17
        }
      ]
    },
    {
      "cell_type": "markdown",
      "metadata": {
        "id": "8UT8TPmcDByB",
        "colab_type": "text"
      },
      "source": [
        "### Summary"
      ]
    },
    {
      "cell_type": "markdown",
      "metadata": {
        "id": "Lqwx9Hj5CNxT",
        "colab_type": "text"
      },
      "source": [
        "##### Target Sentences"
      ]
    },
    {
      "cell_type": "code",
      "metadata": {
        "id": "9gdiBQnuGdDb",
        "colab_type": "code",
        "outputId": "90fb4a42-6708-4798-d683-31f86ba2faea",
        "colab": {
          "base_uri": "https://localhost:8080/",
          "height": 607
        }
      },
      "source": [
        "# Distribution of Modal Verbs TS\n",
        "\n",
        "modal_verbsTS = list(df_modals_onlyTS['TS.Modalverb.Lex'])\n",
        "mv_distTS = {i : modal_verbsTS.count(i) for i in set(modal_verbsTS)}\n",
        "verbs = [key for key,val in mv_distTS.items()]\n",
        "samples = [val for key,val in mv_distTS.items()]\n",
        "df_dist_mvTS = pd.DataFrame({'Modal Verb': verbs, \n",
        "                              'Samples' : samples})\n",
        "\n",
        "df_dist_mvTS.sort_values(by = ['Samples'], ascending = False)"
      ],
      "execution_count": 0,
      "outputs": [
        {
          "output_type": "execute_result",
          "data": {
            "text/html": [
              "<div>\n",
              "<style scoped>\n",
              "    .dataframe tbody tr th:only-of-type {\n",
              "        vertical-align: middle;\n",
              "    }\n",
              "\n",
              "    .dataframe tbody tr th {\n",
              "        vertical-align: top;\n",
              "    }\n",
              "\n",
              "    .dataframe thead th {\n",
              "        text-align: right;\n",
              "    }\n",
              "</style>\n",
              "<table border=\"1\" class=\"dataframe\">\n",
              "  <thead>\n",
              "    <tr style=\"text-align: right;\">\n",
              "      <th></th>\n",
              "      <th>Modal Verb</th>\n",
              "      <th>Samples</th>\n",
              "    </tr>\n",
              "  </thead>\n",
              "  <tbody>\n",
              "    <tr>\n",
              "      <th>4</th>\n",
              "      <td>ts_mv_lex(koennen)</td>\n",
              "      <td>430</td>\n",
              "    </tr>\n",
              "    <tr>\n",
              "      <th>17</th>\n",
              "      <td>ts_mv_lex(sollen)</td>\n",
              "      <td>161</td>\n",
              "    </tr>\n",
              "    <tr>\n",
              "      <th>10</th>\n",
              "      <td>ts_mv_lex(muessen)</td>\n",
              "      <td>146</td>\n",
              "    </tr>\n",
              "    <tr>\n",
              "      <th>0</th>\n",
              "      <td>ts_mv_lex(duerfen)</td>\n",
              "      <td>132</td>\n",
              "    </tr>\n",
              "    <tr>\n",
              "      <th>1</th>\n",
              "      <td>ts_mv_lex(wollen)</td>\n",
              "      <td>83</td>\n",
              "    </tr>\n",
              "    <tr>\n",
              "      <th>13</th>\n",
              "      <td>ts_mv_lex(moegen)</td>\n",
              "      <td>19</td>\n",
              "    </tr>\n",
              "    <tr>\n",
              "      <th>7</th>\n",
              "      <td>ts_mv_lex(scheinen)</td>\n",
              "      <td>15</td>\n",
              "    </tr>\n",
              "    <tr>\n",
              "      <th>8</th>\n",
              "      <td>ts_mv_lex(drohen)</td>\n",
              "      <td>8</td>\n",
              "    </tr>\n",
              "    <tr>\n",
              "      <th>12</th>\n",
              "      <td>ts_mv_lex(versprechen)</td>\n",
              "      <td>5</td>\n",
              "    </tr>\n",
              "    <tr>\n",
              "      <th>6</th>\n",
              "      <td>ts_mv_lex(brauchen)</td>\n",
              "      <td>4</td>\n",
              "    </tr>\n",
              "    <tr>\n",
              "      <th>5</th>\n",
              "      <td>ts_mv_lex(vermoegen)</td>\n",
              "      <td>3</td>\n",
              "    </tr>\n",
              "    <tr>\n",
              "      <th>3</th>\n",
              "      <td>ts_mv_lex(sollen;koennen)</td>\n",
              "      <td>2</td>\n",
              "    </tr>\n",
              "    <tr>\n",
              "      <th>15</th>\n",
              "      <td>ts_mv_lex(scheinen;wollen)</td>\n",
              "      <td>2</td>\n",
              "    </tr>\n",
              "    <tr>\n",
              "      <th>2</th>\n",
              "      <td>ts_mv_lex(duerfen;wollen)</td>\n",
              "      <td>1</td>\n",
              "    </tr>\n",
              "    <tr>\n",
              "      <th>11</th>\n",
              "      <td>ts_mv_lex(sollen;muessen)</td>\n",
              "      <td>1</td>\n",
              "    </tr>\n",
              "    <tr>\n",
              "      <th>14</th>\n",
              "      <td>ts_mv_lex(sollen;duerfen)</td>\n",
              "      <td>1</td>\n",
              "    </tr>\n",
              "    <tr>\n",
              "      <th>16</th>\n",
              "      <td>ts_mv_lex(wollen;muessen)</td>\n",
              "      <td>1</td>\n",
              "    </tr>\n",
              "    <tr>\n",
              "      <th>9</th>\n",
              "      <td>ts_mv_lex(muessen;koennen)</td>\n",
              "      <td>1</td>\n",
              "    </tr>\n",
              "  </tbody>\n",
              "</table>\n",
              "</div>"
            ],
            "text/plain": [
              "                    Modal Verb  Samples\n",
              "4           ts_mv_lex(koennen)      430\n",
              "17           ts_mv_lex(sollen)      161\n",
              "10          ts_mv_lex(muessen)      146\n",
              "0           ts_mv_lex(duerfen)      132\n",
              "1            ts_mv_lex(wollen)       83\n",
              "13           ts_mv_lex(moegen)       19\n",
              "7          ts_mv_lex(scheinen)       15\n",
              "8            ts_mv_lex(drohen)        8\n",
              "12      ts_mv_lex(versprechen)        5\n",
              "6          ts_mv_lex(brauchen)        4\n",
              "5         ts_mv_lex(vermoegen)        3\n",
              "3    ts_mv_lex(sollen;koennen)        2\n",
              "15  ts_mv_lex(scheinen;wollen)        2\n",
              "2    ts_mv_lex(duerfen;wollen)        1\n",
              "11   ts_mv_lex(sollen;muessen)        1\n",
              "14   ts_mv_lex(sollen;duerfen)        1\n",
              "16   ts_mv_lex(wollen;muessen)        1\n",
              "9   ts_mv_lex(muessen;koennen)        1"
            ]
          },
          "metadata": {
            "tags": []
          },
          "execution_count": 20
        }
      ]
    },
    {
      "cell_type": "code",
      "metadata": {
        "id": "ACMd0QGC4gIB",
        "colab_type": "code",
        "outputId": "5afea513-5c5a-46e9-9428-e32e66da2451",
        "colab": {
          "base_uri": "https://localhost:8080/",
          "height": 235
        }
      },
      "source": [
        "# Distribution of Data among Modal Sense Categories (broad) TS\n",
        "\n",
        "modal_label_grTS = list(df_modals_onlyTS['TS.Mod.Les.gr'])\n",
        "label_dist_grTS = {i : modal_label_grTS.count(i) for i in set(modal_label_grTS)}\n",
        "labels = [key for key,val in label_dist_grTS.items()]\n",
        "samples = [val for key,val in label_dist_grTS.items()]\n",
        "df_dist_cat_broadTS = pd.DataFrame({'Labels': labels, \n",
        "                              'Samples' : samples})\n",
        "\n",
        "df_dist_cat_broadTS"
      ],
      "execution_count": 0,
      "outputs": [
        {
          "output_type": "execute_result",
          "data": {
            "text/html": [
              "<div>\n",
              "<style scoped>\n",
              "    .dataframe tbody tr th:only-of-type {\n",
              "        vertical-align: middle;\n",
              "    }\n",
              "\n",
              "    .dataframe tbody tr th {\n",
              "        vertical-align: top;\n",
              "    }\n",
              "\n",
              "    .dataframe thead th {\n",
              "        text-align: right;\n",
              "    }\n",
              "</style>\n",
              "<table border=\"1\" class=\"dataframe\">\n",
              "  <thead>\n",
              "    <tr style=\"text-align: right;\">\n",
              "      <th></th>\n",
              "      <th>Labels</th>\n",
              "      <th>Samples</th>\n",
              "    </tr>\n",
              "  </thead>\n",
              "  <tbody>\n",
              "    <tr>\n",
              "      <th>0</th>\n",
              "      <td>ts_mv_rhg(epist;root)</td>\n",
              "      <td>4</td>\n",
              "    </tr>\n",
              "    <tr>\n",
              "      <th>1</th>\n",
              "      <td>ts_mv_rhg(root;root)</td>\n",
              "      <td>3</td>\n",
              "    </tr>\n",
              "    <tr>\n",
              "      <th>2</th>\n",
              "      <td>ts_mv_rhg(ambig)</td>\n",
              "      <td>89</td>\n",
              "    </tr>\n",
              "    <tr>\n",
              "      <th>3</th>\n",
              "      <td>ts_mv_rhg(epist)</td>\n",
              "      <td>169</td>\n",
              "    </tr>\n",
              "    <tr>\n",
              "      <th>4</th>\n",
              "      <td>ts_mv_rhg(narr)</td>\n",
              "      <td>2</td>\n",
              "    </tr>\n",
              "    <tr>\n",
              "      <th>5</th>\n",
              "      <td>ts_mv_rhg(root)</td>\n",
              "      <td>748</td>\n",
              "    </tr>\n",
              "  </tbody>\n",
              "</table>\n",
              "</div>"
            ],
            "text/plain": [
              "                  Labels  Samples\n",
              "0  ts_mv_rhg(epist;root)        4\n",
              "1   ts_mv_rhg(root;root)        3\n",
              "2       ts_mv_rhg(ambig)       89\n",
              "3       ts_mv_rhg(epist)      169\n",
              "4        ts_mv_rhg(narr)        2\n",
              "5        ts_mv_rhg(root)      748"
            ]
          },
          "metadata": {
            "tags": []
          },
          "execution_count": 21
        }
      ]
    },
    {
      "cell_type": "code",
      "metadata": {
        "id": "omVt4erjwvVd",
        "colab_type": "code",
        "outputId": "fa15db7b-bbc5-4e46-bdcf-06b5e4934913",
        "colab": {
          "base_uri": "https://localhost:8080/",
          "height": 514
        }
      },
      "source": [
        "# Distribution of Data among Modal Sense Categories (narrow)\n",
        "\n",
        "modal_label_spTS = list(df_modals_onlyTS['TS.Mod.Les.sp'])\n",
        "label_dist_spTS = {i : modal_label_spTS.count(i) for i in set(modal_label_spTS)}\n",
        "labels = [key for key,val in label_dist_spTS.items()]\n",
        "samples = [val for key,val in label_dist_spTS.items()]\n",
        "df_dist_cat_narTS = pd.DataFrame({'Labels': labels, \n",
        "                              'Samples' : samples})\n",
        "\n",
        "df_dist_cat_narTS"
      ],
      "execution_count": 0,
      "outputs": [
        {
          "output_type": "execute_result",
          "data": {
            "text/html": [
              "<div>\n",
              "<style scoped>\n",
              "    .dataframe tbody tr th:only-of-type {\n",
              "        vertical-align: middle;\n",
              "    }\n",
              "\n",
              "    .dataframe tbody tr th {\n",
              "        vertical-align: top;\n",
              "    }\n",
              "\n",
              "    .dataframe thead th {\n",
              "        text-align: right;\n",
              "    }\n",
              "</style>\n",
              "<table border=\"1\" class=\"dataframe\">\n",
              "  <thead>\n",
              "    <tr style=\"text-align: right;\">\n",
              "      <th></th>\n",
              "      <th>Labels</th>\n",
              "      <th>Samples</th>\n",
              "    </tr>\n",
              "  </thead>\n",
              "  <tbody>\n",
              "    <tr>\n",
              "      <th>0</th>\n",
              "      <td>ts_mv_rhg(deon)</td>\n",
              "      <td>1</td>\n",
              "    </tr>\n",
              "    <tr>\n",
              "      <th>1</th>\n",
              "      <td>ts_mv_rh(bul;circum)</td>\n",
              "      <td>1</td>\n",
              "    </tr>\n",
              "    <tr>\n",
              "      <th>2</th>\n",
              "      <td>ts_mv_rh(evid;deon)</td>\n",
              "      <td>2</td>\n",
              "    </tr>\n",
              "    <tr>\n",
              "      <th>3</th>\n",
              "      <td>ts_mv_rh(deon)</td>\n",
              "      <td>198</td>\n",
              "    </tr>\n",
              "    <tr>\n",
              "      <th>4</th>\n",
              "      <td>ts_mv_rh(evid;bul)</td>\n",
              "      <td>2</td>\n",
              "    </tr>\n",
              "    <tr>\n",
              "      <th>5</th>\n",
              "      <td>ts_mv_rh(evid)</td>\n",
              "      <td>49</td>\n",
              "    </tr>\n",
              "    <tr>\n",
              "      <th>6</th>\n",
              "      <td>ts_mv_rh(circum)</td>\n",
              "      <td>345</td>\n",
              "    </tr>\n",
              "    <tr>\n",
              "      <th>7</th>\n",
              "      <td>ts_mv_rh(deon;bul)</td>\n",
              "      <td>1</td>\n",
              "    </tr>\n",
              "    <tr>\n",
              "      <th>8</th>\n",
              "      <td>ts_mv_rh(teleo;deon)</td>\n",
              "      <td>1</td>\n",
              "    </tr>\n",
              "    <tr>\n",
              "      <th>9</th>\n",
              "      <td>ts_mv_rh(teleo)</td>\n",
              "      <td>102</td>\n",
              "    </tr>\n",
              "    <tr>\n",
              "      <th>10</th>\n",
              "      <td>ts_mv_rh(narr)</td>\n",
              "      <td>2</td>\n",
              "    </tr>\n",
              "    <tr>\n",
              "      <th>11</th>\n",
              "      <td>ts_mv_rh(bul)</td>\n",
              "      <td>99</td>\n",
              "    </tr>\n",
              "    <tr>\n",
              "      <th>12</th>\n",
              "      <td>ts_mv_rh(epist)</td>\n",
              "      <td>122</td>\n",
              "    </tr>\n",
              "    <tr>\n",
              "      <th>13</th>\n",
              "      <td>ts_mv_rh(ambig)</td>\n",
              "      <td>89</td>\n",
              "    </tr>\n",
              "    <tr>\n",
              "      <th>14</th>\n",
              "      <td>ts_mv_rh(deon;circum)</td>\n",
              "      <td>1</td>\n",
              "    </tr>\n",
              "  </tbody>\n",
              "</table>\n",
              "</div>"
            ],
            "text/plain": [
              "                   Labels  Samples\n",
              "0         ts_mv_rhg(deon)        1\n",
              "1    ts_mv_rh(bul;circum)        1\n",
              "2     ts_mv_rh(evid;deon)        2\n",
              "3          ts_mv_rh(deon)      198\n",
              "4      ts_mv_rh(evid;bul)        2\n",
              "5          ts_mv_rh(evid)       49\n",
              "6        ts_mv_rh(circum)      345\n",
              "7      ts_mv_rh(deon;bul)        1\n",
              "8    ts_mv_rh(teleo;deon)        1\n",
              "9         ts_mv_rh(teleo)      102\n",
              "10         ts_mv_rh(narr)        2\n",
              "11          ts_mv_rh(bul)       99\n",
              "12        ts_mv_rh(epist)      122\n",
              "13        ts_mv_rh(ambig)       89\n",
              "14  ts_mv_rh(deon;circum)        1"
            ]
          },
          "metadata": {
            "tags": []
          },
          "execution_count": 22
        }
      ]
    },
    {
      "cell_type": "code",
      "metadata": {
        "id": "B1FY-6z6xSJe",
        "colab_type": "code",
        "colab": {}
      },
      "source": [
        "# Filter DataFrame for Epistemic and Deontic only\n",
        "\n",
        "label_list = ['ts_mv_rh(deon)', 'ts_mv_rh(epist)']\n",
        "df_modal_epde = df_modals_onlyTS[df_modals_onlyTS['TS.Mod.Les.sp'].isin(label_list)]\n",
        "#df_modal_epde"
      ],
      "execution_count": 0,
      "outputs": []
    },
    {
      "cell_type": "code",
      "metadata": {
        "id": "HJlGPpRFq5bB",
        "colab_type": "code",
        "colab": {}
      },
      "source": [
        "# Filter DataFrame for Epistemic and Root only\n",
        "\n",
        "label_list = [key for key, value in label_dist_grTS.items() if value > 100]\n",
        "df_modal_binaryTS = df_modals_onlyTS[df_modals_onlyTS['TS.Mod.Les.gr'].isin(label_list)]\n",
        "#df_modal_binaryTS\n"
      ],
      "execution_count": 0,
      "outputs": []
    },
    {
      "cell_type": "code",
      "metadata": {
        "id": "IA8Wq7rjq5XW",
        "colab_type": "code",
        "colab": {}
      },
      "source": [
        "# Get Texts and Labels\n",
        "\n",
        "# Root & Epistemic (broad categories)\n",
        "texts_binaryTS = list(df_modal_binaryTS['kontext'])\n",
        "labels_binaryTS = [label[10:-1] for label in list(df_modal_binaryTS['TS.Mod.Les.gr'])]\n",
        "\n",
        "# Deontic & Epistemic (narrow categories)\n",
        "texts_epde = list(df_modal_epde['kontext'])\n",
        "labels_epde = [label[10:-1] for label in list(df_modal_epde['TS.Mod.Les.sp'])]"
      ],
      "execution_count": 0,
      "outputs": []
    },
    {
      "cell_type": "code",
      "metadata": {
        "colab_type": "code",
        "outputId": "9776f012-48af-4d41-a4e5-8aa204cde7fc",
        "id": "9l_fWNWtF2Vf",
        "colab": {
          "base_uri": "https://localhost:8080/",
          "height": 312
        }
      },
      "source": [
        "# Get Overview over Length of Texts (still includes punctuation marks)\n",
        "\n",
        "x = [len(s.split()) for s in texts_binaryTS]\n",
        "\n",
        "sns.set_style('darkgrid')\n",
        "sns.distplot(x, kde=False)\n",
        "plt.xlabel('Sequence Length')\n",
        "plt.ylabel('Number of Samples')\n",
        "plt.title('Distribution of Sequences according to Length')\n",
        "plt.show"
      ],
      "execution_count": 0,
      "outputs": [
        {
          "output_type": "execute_result",
          "data": {
            "text/plain": [
              "<function matplotlib.pyplot.show>"
            ]
          },
          "metadata": {
            "tags": []
          },
          "execution_count": 25
        },
        {
          "output_type": "display_data",
          "data": {
            "image/png": "[encoded data removed]",
            "text/plain": [
              "<Figure size 432x288 with 1 Axes>"
            ]
          },
          "metadata": {
            "tags": []
          }
        }
      ]
    },
    {
      "cell_type": "code",
      "metadata": {
        "id": "EfScD6Q9JEKz",
        "colab_type": "code",
        "outputId": "5d6a4bc4-023d-4c48-c5ae-d017caf937f2",
        "colab": {
          "base_uri": "https://localhost:8080/",
          "height": 51
        }
      },
      "source": [
        "# Max and Mean Sequence Length\n",
        "\n",
        "max_len = max(x)\n",
        "mean_len = np.mean(x)\n",
        "print('max length: %d' %max_len)\n",
        "print('mean length: %d' %mean_len)"
      ],
      "execution_count": 0,
      "outputs": [
        {
          "output_type": "stream",
          "text": [
            "max length: 121\n",
            "mean length: 30\n"
          ],
          "name": "stdout"
        }
      ]
    },
    {
      "cell_type": "markdown",
      "metadata": {
        "id": "2upjDkpRCbmP",
        "colab_type": "text"
      },
      "source": [
        "#### Matrix Sentences"
      ]
    },
    {
      "cell_type": "code",
      "metadata": {
        "id": "6c_U8KcHWlYy",
        "colab_type": "code",
        "outputId": "9d54aace-6f2b-49d1-e7fd-491ba8b3634c",
        "colab": {
          "base_uri": "https://localhost:8080/",
          "height": 669
        }
      },
      "source": [
        "# Distribution of Modal Verbs MS\n",
        "\n",
        "modal_verbsMS = list(df_modals_onlyMS['MS.Modalverb.Lex'])\n",
        "mv_distMS = {i : modal_verbsMS.count(i) for i in set(modal_verbsMS)}\n",
        "verbsMS = [key for key,val in mv_distMS.items()]\n",
        "samplesMS = [val for key,val in mv_distMS.items()]\n",
        "df_dist_mvMS = pd.DataFrame({'Modal Verb': verbsMS, \n",
        "                              'Samples' : samplesMS})\n",
        "\n",
        "df_dist_mvMS.sort_values(by = ['Samples'], ascending = False)"
      ],
      "execution_count": 0,
      "outputs": [
        {
          "output_type": "execute_result",
          "data": {
            "text/html": [
              "<div>\n",
              "<style scoped>\n",
              "    .dataframe tbody tr th:only-of-type {\n",
              "        vertical-align: middle;\n",
              "    }\n",
              "\n",
              "    .dataframe tbody tr th {\n",
              "        vertical-align: top;\n",
              "    }\n",
              "\n",
              "    .dataframe thead th {\n",
              "        text-align: right;\n",
              "    }\n",
              "</style>\n",
              "<table border=\"1\" class=\"dataframe\">\n",
              "  <thead>\n",
              "    <tr style=\"text-align: right;\">\n",
              "      <th></th>\n",
              "      <th>Modal Verb</th>\n",
              "      <th>Samples</th>\n",
              "    </tr>\n",
              "  </thead>\n",
              "  <tbody>\n",
              "    <tr>\n",
              "      <th>7</th>\n",
              "      <td>ms_mv_lex(koennen)</td>\n",
              "      <td>89</td>\n",
              "    </tr>\n",
              "    <tr>\n",
              "      <th>15</th>\n",
              "      <td>ms_mv_lex(muessen)</td>\n",
              "      <td>52</td>\n",
              "    </tr>\n",
              "    <tr>\n",
              "      <th>3</th>\n",
              "      <td>ms_mv_lex(sollen)</td>\n",
              "      <td>36</td>\n",
              "    </tr>\n",
              "    <tr>\n",
              "      <th>2</th>\n",
              "      <td>ms_mv_lex(wollen)</td>\n",
              "      <td>35</td>\n",
              "    </tr>\n",
              "    <tr>\n",
              "      <th>19</th>\n",
              "      <td>ms_mv_lex(duerfen)</td>\n",
              "      <td>20</td>\n",
              "    </tr>\n",
              "    <tr>\n",
              "      <th>13</th>\n",
              "      <td>ms_mv_lex(moegen)</td>\n",
              "      <td>13</td>\n",
              "    </tr>\n",
              "    <tr>\n",
              "      <th>12</th>\n",
              "      <td>ms_mv_lex(scheinen)</td>\n",
              "      <td>13</td>\n",
              "    </tr>\n",
              "    <tr>\n",
              "      <th>9</th>\n",
              "      <td>ms_mv_lex(muessen;koennen)</td>\n",
              "      <td>4</td>\n",
              "    </tr>\n",
              "    <tr>\n",
              "      <th>5</th>\n",
              "      <td>ms_mv_lex(brauchen)</td>\n",
              "      <td>3</td>\n",
              "    </tr>\n",
              "    <tr>\n",
              "      <th>11</th>\n",
              "      <td>ms_mv_lex(koennen;muessen)</td>\n",
              "      <td>2</td>\n",
              "    </tr>\n",
              "    <tr>\n",
              "      <th>10</th>\n",
              "      <td>ms_mv_lex(muessen;sollen)</td>\n",
              "      <td>2</td>\n",
              "    </tr>\n",
              "    <tr>\n",
              "      <th>8</th>\n",
              "      <td>ms_mv_lex(sollen;koennen)</td>\n",
              "      <td>2</td>\n",
              "    </tr>\n",
              "    <tr>\n",
              "      <th>6</th>\n",
              "      <td>ms_mv_lex(drohen)</td>\n",
              "      <td>2</td>\n",
              "    </tr>\n",
              "    <tr>\n",
              "      <th>4</th>\n",
              "      <td>ms_mv_lex(moegen;koennen)</td>\n",
              "      <td>2</td>\n",
              "    </tr>\n",
              "    <tr>\n",
              "      <th>1</th>\n",
              "      <td>ms_mv_lex(muessen;moegen)</td>\n",
              "      <td>1</td>\n",
              "    </tr>\n",
              "    <tr>\n",
              "      <th>14</th>\n",
              "      <td>ms_mv_lex(wollen;koennen)</td>\n",
              "      <td>1</td>\n",
              "    </tr>\n",
              "    <tr>\n",
              "      <th>16</th>\n",
              "      <td>ms_mv_lex(versprechen)</td>\n",
              "      <td>1</td>\n",
              "    </tr>\n",
              "    <tr>\n",
              "      <th>17</th>\n",
              "      <td>ms_mv_lex(koennen;duerfen)</td>\n",
              "      <td>1</td>\n",
              "    </tr>\n",
              "    <tr>\n",
              "      <th>18</th>\n",
              "      <td>ms_mv_lex(koennen;scheinen)</td>\n",
              "      <td>1</td>\n",
              "    </tr>\n",
              "    <tr>\n",
              "      <th>0</th>\n",
              "      <td>ms_mv_lex(koennen;wollen)</td>\n",
              "      <td>1</td>\n",
              "    </tr>\n",
              "  </tbody>\n",
              "</table>\n",
              "</div>"
            ],
            "text/plain": [
              "                     Modal Verb  Samples\n",
              "7            ms_mv_lex(koennen)       89\n",
              "15           ms_mv_lex(muessen)       52\n",
              "3             ms_mv_lex(sollen)       36\n",
              "2             ms_mv_lex(wollen)       35\n",
              "19           ms_mv_lex(duerfen)       20\n",
              "13            ms_mv_lex(moegen)       13\n",
              "12          ms_mv_lex(scheinen)       13\n",
              "9    ms_mv_lex(muessen;koennen)        4\n",
              "5           ms_mv_lex(brauchen)        3\n",
              "11   ms_mv_lex(koennen;muessen)        2\n",
              "10    ms_mv_lex(muessen;sollen)        2\n",
              "8     ms_mv_lex(sollen;koennen)        2\n",
              "6             ms_mv_lex(drohen)        2\n",
              "4     ms_mv_lex(moegen;koennen)        2\n",
              "1     ms_mv_lex(muessen;moegen)        1\n",
              "14    ms_mv_lex(wollen;koennen)        1\n",
              "16       ms_mv_lex(versprechen)        1\n",
              "17   ms_mv_lex(koennen;duerfen)        1\n",
              "18  ms_mv_lex(koennen;scheinen)        1\n",
              "0     ms_mv_lex(koennen;wollen)        1"
            ]
          },
          "metadata": {
            "tags": []
          },
          "execution_count": 27
        }
      ]
    },
    {
      "cell_type": "code",
      "metadata": {
        "id": "OXyhIIX4XlQK",
        "colab_type": "code",
        "outputId": "091d35bc-46f2-46f5-a4f0-e6dbd6ae0c1f",
        "colab": {
          "base_uri": "https://localhost:8080/",
          "height": 235
        }
      },
      "source": [
        "# Distribution of Data among Modal Sense Categories (broad) MS\n",
        "\n",
        "modal_label_grMS = list(df_modals_onlyMS['MS.Mod.Les.gr'])\n",
        "label_dist_grMS = {i : modal_label_grMS.count(i) for i in set(modal_label_grMS)}\n",
        "labelsMS = [key for key,val in label_dist_grMS.items()]\n",
        "samplesMS = [val for key,val in label_dist_grMS.items()]\n",
        "df_dist_cat_broadMS = pd.DataFrame({'Labels': labelsMS, \n",
        "                              'Samples' : samplesMS})\n",
        "\n",
        "df_dist_cat_broadMS"
      ],
      "execution_count": 0,
      "outputs": [
        {
          "output_type": "execute_result",
          "data": {
            "text/html": [
              "<div>\n",
              "<style scoped>\n",
              "    .dataframe tbody tr th:only-of-type {\n",
              "        vertical-align: middle;\n",
              "    }\n",
              "\n",
              "    .dataframe tbody tr th {\n",
              "        vertical-align: top;\n",
              "    }\n",
              "\n",
              "    .dataframe thead th {\n",
              "        text-align: right;\n",
              "    }\n",
              "</style>\n",
              "<table border=\"1\" class=\"dataframe\">\n",
              "  <thead>\n",
              "    <tr style=\"text-align: right;\">\n",
              "      <th></th>\n",
              "      <th>Labels</th>\n",
              "      <th>Samples</th>\n",
              "    </tr>\n",
              "  </thead>\n",
              "  <tbody>\n",
              "    <tr>\n",
              "      <th>0</th>\n",
              "      <td>ms_mv_rhg(root;root)</td>\n",
              "      <td>6</td>\n",
              "    </tr>\n",
              "    <tr>\n",
              "      <th>1</th>\n",
              "      <td>ms_mv_rhg(root;epist)</td>\n",
              "      <td>5</td>\n",
              "    </tr>\n",
              "    <tr>\n",
              "      <th>2</th>\n",
              "      <td>ms_mv_rhg(epist)</td>\n",
              "      <td>70</td>\n",
              "    </tr>\n",
              "    <tr>\n",
              "      <th>3</th>\n",
              "      <td>ms_mv_rhg(epist;root)</td>\n",
              "      <td>4</td>\n",
              "    </tr>\n",
              "    <tr>\n",
              "      <th>4</th>\n",
              "      <td>ms_mv_rhg(root)</td>\n",
              "      <td>193</td>\n",
              "    </tr>\n",
              "    <tr>\n",
              "      <th>5</th>\n",
              "      <td>ms_mv_rhg(ambig)</td>\n",
              "      <td>3</td>\n",
              "    </tr>\n",
              "  </tbody>\n",
              "</table>\n",
              "</div>"
            ],
            "text/plain": [
              "                  Labels  Samples\n",
              "0   ms_mv_rhg(root;root)        6\n",
              "1  ms_mv_rhg(root;epist)        5\n",
              "2       ms_mv_rhg(epist)       70\n",
              "3  ms_mv_rhg(epist;root)        4\n",
              "4        ms_mv_rhg(root)      193\n",
              "5       ms_mv_rhg(ambig)        3"
            ]
          },
          "metadata": {
            "tags": []
          },
          "execution_count": 28
        }
      ]
    },
    {
      "cell_type": "code",
      "metadata": {
        "id": "ChBnriSOX5kP",
        "colab_type": "code",
        "outputId": "fc139a89-a6c8-4267-c4e4-66f7e416ad14",
        "colab": {
          "base_uri": "https://localhost:8080/",
          "height": 638
        }
      },
      "source": [
        "# Distribution of Data among Modal Sense Categories (narrow) MS\n",
        "\n",
        "modal_label_spMS = list(df_modals_onlyMS['MS.Mod.Les.sp'])\n",
        "label_dist_spMS = {i : modal_label_spMS.count(i) for i in set(modal_label_spMS)}\n",
        "labelsMS = [key for key,val in label_dist_spMS.items()]\n",
        "samplesMS = [val for key,val in label_dist_spMS.items()]\n",
        "df_dist_cat_narMS = pd.DataFrame({'Labels': labelsMS, \n",
        "                              'Samples' : samplesMS})\n",
        "\n",
        "df_dist_cat_narMS"
      ],
      "execution_count": 0,
      "outputs": [
        {
          "output_type": "execute_result",
          "data": {
            "text/html": [
              "<div>\n",
              "<style scoped>\n",
              "    .dataframe tbody tr th:only-of-type {\n",
              "        vertical-align: middle;\n",
              "    }\n",
              "\n",
              "    .dataframe tbody tr th {\n",
              "        vertical-align: top;\n",
              "    }\n",
              "\n",
              "    .dataframe thead th {\n",
              "        text-align: right;\n",
              "    }\n",
              "</style>\n",
              "<table border=\"1\" class=\"dataframe\">\n",
              "  <thead>\n",
              "    <tr style=\"text-align: right;\">\n",
              "      <th></th>\n",
              "      <th>Labels</th>\n",
              "      <th>Samples</th>\n",
              "    </tr>\n",
              "  </thead>\n",
              "  <tbody>\n",
              "    <tr>\n",
              "      <th>0</th>\n",
              "      <td>ms_mv_rh(deon;circum)</td>\n",
              "      <td>1</td>\n",
              "    </tr>\n",
              "    <tr>\n",
              "      <th>1</th>\n",
              "      <td>ms_mv_rh(ambig)</td>\n",
              "      <td>5</td>\n",
              "    </tr>\n",
              "    <tr>\n",
              "      <th>2</th>\n",
              "      <td>ms_mv_rh(circum;circum)</td>\n",
              "      <td>1</td>\n",
              "    </tr>\n",
              "    <tr>\n",
              "      <th>3</th>\n",
              "      <td>ms_mv_rh(epist)</td>\n",
              "      <td>47</td>\n",
              "    </tr>\n",
              "    <tr>\n",
              "      <th>4</th>\n",
              "      <td>ms_mv_rh(circum;evid)</td>\n",
              "      <td>2</td>\n",
              "    </tr>\n",
              "    <tr>\n",
              "      <th>5</th>\n",
              "      <td>ms_mv_rh(bul;circum)</td>\n",
              "      <td>1</td>\n",
              "    </tr>\n",
              "    <tr>\n",
              "      <th>6</th>\n",
              "      <td>ms_mv_rh(teleo)</td>\n",
              "      <td>27</td>\n",
              "    </tr>\n",
              "    <tr>\n",
              "      <th>7</th>\n",
              "      <td>ms_mv_rh(evid)</td>\n",
              "      <td>22</td>\n",
              "    </tr>\n",
              "    <tr>\n",
              "      <th>8</th>\n",
              "      <td>ms_mv_rh(epist;bul)</td>\n",
              "      <td>1</td>\n",
              "    </tr>\n",
              "    <tr>\n",
              "      <th>9</th>\n",
              "      <td>ms_mv_rh(circum;epist)</td>\n",
              "      <td>1</td>\n",
              "    </tr>\n",
              "    <tr>\n",
              "      <th>10</th>\n",
              "      <td>ms_mv_rh(evid;deon)</td>\n",
              "      <td>1</td>\n",
              "    </tr>\n",
              "    <tr>\n",
              "      <th>11</th>\n",
              "      <td>ms_mv_rh(circum;bul)</td>\n",
              "      <td>1</td>\n",
              "    </tr>\n",
              "    <tr>\n",
              "      <th>12</th>\n",
              "      <td>ms_mv_rh(teleo;evid)</td>\n",
              "      <td>2</td>\n",
              "    </tr>\n",
              "    <tr>\n",
              "      <th>13</th>\n",
              "      <td>ms_mv_rh(circum)</td>\n",
              "      <td>84</td>\n",
              "    </tr>\n",
              "    <tr>\n",
              "      <th>14</th>\n",
              "      <td>ms_mv_rh(bul)</td>\n",
              "      <td>43</td>\n",
              "    </tr>\n",
              "    <tr>\n",
              "      <th>15</th>\n",
              "      <td>ms_mv_rh(epist;circum)</td>\n",
              "      <td>2</td>\n",
              "    </tr>\n",
              "    <tr>\n",
              "      <th>16</th>\n",
              "      <td>ms_mv_rh(teleo;circum)</td>\n",
              "      <td>1</td>\n",
              "    </tr>\n",
              "    <tr>\n",
              "      <th>17</th>\n",
              "      <td>ms_mv_rh(deon;teleo)</td>\n",
              "      <td>1</td>\n",
              "    </tr>\n",
              "    <tr>\n",
              "      <th>18</th>\n",
              "      <td>ms_mv_rh(deon)</td>\n",
              "      <td>38</td>\n",
              "    </tr>\n",
              "  </tbody>\n",
              "</table>\n",
              "</div>"
            ],
            "text/plain": [
              "                     Labels  Samples\n",
              "0     ms_mv_rh(deon;circum)        1\n",
              "1           ms_mv_rh(ambig)        5\n",
              "2   ms_mv_rh(circum;circum)        1\n",
              "3           ms_mv_rh(epist)       47\n",
              "4     ms_mv_rh(circum;evid)        2\n",
              "5      ms_mv_rh(bul;circum)        1\n",
              "6           ms_mv_rh(teleo)       27\n",
              "7            ms_mv_rh(evid)       22\n",
              "8       ms_mv_rh(epist;bul)        1\n",
              "9    ms_mv_rh(circum;epist)        1\n",
              "10      ms_mv_rh(evid;deon)        1\n",
              "11     ms_mv_rh(circum;bul)        1\n",
              "12     ms_mv_rh(teleo;evid)        2\n",
              "13         ms_mv_rh(circum)       84\n",
              "14            ms_mv_rh(bul)       43\n",
              "15   ms_mv_rh(epist;circum)        2\n",
              "16   ms_mv_rh(teleo;circum)        1\n",
              "17     ms_mv_rh(deon;teleo)        1\n",
              "18           ms_mv_rh(deon)       38"
            ]
          },
          "metadata": {
            "tags": []
          },
          "execution_count": 29
        }
      ]
    },
    {
      "cell_type": "code",
      "metadata": {
        "colab_type": "code",
        "id": "fubNwbudFACR",
        "colab": {}
      },
      "source": [
        "# Filter DataFrame for Epistemic and Root only\n",
        "\n",
        "label_list = [key for key, value in label_dist_grMS.items() if value > 50]\n",
        "df_modal_binaryMS = df_modals_onlyMS[df_modals_onlyMS['MS.Mod.Les.gr'].isin(label_list)]"
      ],
      "execution_count": 0,
      "outputs": []
    },
    {
      "cell_type": "code",
      "metadata": {
        "id": "ndMVqCn_DXsL",
        "colab_type": "code",
        "colab": {}
      },
      "source": [
        "# Get Texts and Labels\n",
        "\n",
        "texts_binaryMS = list(df_modal_binaryMS['kontext'])\n",
        "labels_binaryMS = [label[10:-1] for label in list(df_modal_binaryMS['MS.Mod.Les.gr'])]"
      ],
      "execution_count": 0,
      "outputs": []
    },
    {
      "cell_type": "code",
      "metadata": {
        "id": "TPdEXOpD8LyT",
        "colab_type": "code",
        "outputId": "24864342-34d6-4d0d-d718-aa862a62807e",
        "colab": {
          "base_uri": "https://localhost:8080/",
          "height": 312
        }
      },
      "source": [
        "# Get Overview over Length of Texts (still includes punctuation marks)\n",
        "\n",
        "x = [len(s.split()) for s in texts_binaryMS]\n",
        "\n",
        "sns.set_style('darkgrid')\n",
        "sns.distplot(x, kde=False)\n",
        "plt.xlabel('Sequence Length')\n",
        "plt.ylabel('Number of Samples')\n",
        "plt.title('Distribution of Sequences according to Length')\n",
        "plt.show"
      ],
      "execution_count": 0,
      "outputs": [
        {
          "output_type": "execute_result",
          "data": {
            "text/plain": [
              "<function matplotlib.pyplot.show>"
            ]
          },
          "metadata": {
            "tags": []
          },
          "execution_count": 32
        },
        {
          "output_type": "display_data",
          "data": {
            "image/png": "[encoded data removed]",
            "text/plain": [
              "<Figure size 432x288 with 1 Axes>"
            ]
          },
          "metadata": {
            "tags": []
          }
        }
      ]
    },
    {
      "cell_type": "code",
      "metadata": {
        "id": "Bwbsinl33Y0b",
        "colab_type": "code",
        "outputId": "ed7bc7a7-bea9-4e7e-a6bc-d63a6d4d1637",
        "colab": {
          "base_uri": "https://localhost:8080/",
          "height": 51
        }
      },
      "source": [
        "# Max and Mean Sequence Length\n",
        "\n",
        "max_len = max(x)\n",
        "mean_len = np.mean(x)\n",
        "print('max length: %d' %max_len)\n",
        "print('mean length: %d' %mean_len)"
      ],
      "execution_count": 0,
      "outputs": [
        {
          "output_type": "stream",
          "text": [
            "max length: 97\n",
            "mean length: 37\n"
          ],
          "name": "stdout"
        }
      ]
    },
    {
      "cell_type": "markdown",
      "metadata": {
        "id": "9fMxYNgyDPeq",
        "colab_type": "text"
      },
      "source": [
        "### Preprocessing"
      ]
    },
    {
      "cell_type": "code",
      "metadata": {
        "id": "2y_5kTIdDk11",
        "colab_type": "code",
        "colab": {}
      },
      "source": [
        "def clean_and_embed_pd(texts):\n",
        "  embeddings = WordEmbeddings('de-crawl') # load embeddings\n",
        "  embeddedSents = []\n",
        "  for sent in texts:\n",
        "    tokens = sent.split()\n",
        "    table = str.maketrans('', '', string.punctuation)\n",
        "    tokens = [w.translate(table) for w in tokens]\n",
        "    tokens = [w for w in tokens if w.isalpha()]\n",
        "    stripped = ' '.join(tokens)\n",
        "    embedded = Sentence(stripped)\n",
        "    embeddings.embed(embedded) # transform each sentence into sequence consisting of word vectors\n",
        "    embeddedSents.append([t.embedding.numpy() for t in embedded])\n",
        "  return embeddedSents"
      ],
      "execution_count": 0,
      "outputs": []
    },
    {
      "cell_type": "code",
      "metadata": {
        "id": "QW0w2T0ZFTxZ",
        "colab_type": "code",
        "outputId": "6e9e51e7-f6b8-4d4c-fc2b-81703615ff09",
        "colab": {
          "base_uri": "https://localhost:8080/",
          "height": 71
        }
      },
      "source": [
        "# Preprocessing Target Sentence Subset (broad categories)\n",
        "\n",
        "# Process Text Sequences \n",
        "x_cleanTS = clean_and_embed_pd(texts_binaryTS)\n",
        "x_binaryTS = pad_x(x_cleanTS)\n",
        "\n",
        "# Process Labels \n",
        "y_binaryTS = encode_y(labels_binaryTS)\n",
        "\n",
        "# Train Test Split\n",
        "x_trainTS, x_testTS, y_trainTS, y_testTS = train_test_split(x_binaryTS, y_binaryTS, test_size = 0.2, random_state = 42)"
      ],
      "execution_count": 0,
      "outputs": [
        {
          "output_type": "stream",
          "text": [
            "/usr/local/lib/python3.6/dist-packages/smart_open/smart_open_lib.py:253: UserWarning: This function is deprecated, use smart_open.open instead. See the migration notes for details: https://github.com/RaRe-Technologies/smart_open/blob/master/README.rst#migrating-to-the-new-open-function\n",
            "  'See the migration notes for details: %s' % _MIGRATION_NOTES_URL\n"
          ],
          "name": "stderr"
        }
      ]
    },
    {
      "cell_type": "code",
      "metadata": {
        "id": "bsQzX0nozm1C",
        "colab_type": "code",
        "colab": {}
      },
      "source": [
        "# Preprocessing Matrix Sentence Subset (broad categories)\n",
        "\n",
        "# Process Text Sequences\n",
        "x_cleanMS = clean_and_embed_pd(texts_binaryMS)\n",
        "x_binaryMS = pad_x(x_cleanMS)\n",
        "\n",
        "# Process Labels\n",
        "y_binaryMS = encode_y(labels_binaryMS)\n",
        "\n",
        "# Train Test Split\n",
        "x_trainMS, x_testMS, y_trainMS, y_testMS = train_test_split(x_binaryMS, y_binaryMS, test_size = 0.2, random_state = 42)"
      ],
      "execution_count": 0,
      "outputs": []
    },
    {
      "cell_type": "code",
      "metadata": {
        "id": "Vxq_kZh3Nrjl",
        "colab_type": "code",
        "outputId": "b62fbf53-b3c3-4150-8333-77e8fed0eaee",
        "colab": {
          "base_uri": "https://localhost:8080/",
          "height": 71
        }
      },
      "source": [
        "# Preprocessing Target Sentence Subset (narrow categories)\n",
        "\n",
        "# Process Text Sequences\n",
        "x_clean_epde = clean_and_embed_pd(texts_epde)\n",
        "x_epde = pad_x(x_clean_epde)\n",
        "\n",
        "# Process Labels\n",
        "y_epde = encode_y(labels_epde)\n",
        "\n",
        "# Train Test Split\n",
        "x_train_epde, x_test_epde, y_train_epde, y_test_epde = train_test_split(x_epde, y_epde, test_size = 0.2, random_state = 42)"
      ],
      "execution_count": 0,
      "outputs": [
        {
          "output_type": "stream",
          "text": [
            "/usr/local/lib/python3.6/dist-packages/smart_open/smart_open_lib.py:253: UserWarning: This function is deprecated, use smart_open.open instead. See the migration notes for details: https://github.com/RaRe-Technologies/smart_open/blob/master/README.rst#migrating-to-the-new-open-function\n",
            "  'See the migration notes for details: %s' % _MIGRATION_NOTES_URL\n"
          ],
          "name": "stderr"
        }
      ]
    },
    {
      "cell_type": "code",
      "metadata": {
        "id": "3wJscmBSFTqc",
        "colab_type": "code",
        "outputId": "75dc80c6-be57-46cb-9710-8f8fe9eb82ca",
        "colab": {
          "base_uri": "https://localhost:8080/",
          "height": 51
        }
      },
      "source": [
        "# Check Shapes\n",
        "\n",
        "print(y_binaryTS.shape)\n",
        "print(x_binaryTS.shape)"
      ],
      "execution_count": 0,
      "outputs": [
        {
          "output_type": "stream",
          "text": [
            "(917, 2)\n",
            "(917, 100, 300)\n"
          ],
          "name": "stdout"
        }
      ]
    },
    {
      "cell_type": "markdown",
      "metadata": {
        "id": "9xPSEtiRtBCE",
        "colab_type": "text"
      },
      "source": [
        "### Classification"
      ]
    },
    {
      "cell_type": "markdown",
      "metadata": {
        "id": "7o-9ftxinvp-",
        "colab_type": "text"
      },
      "source": [
        "#### Pre-trained Model"
      ]
    },
    {
      "cell_type": "code",
      "metadata": {
        "id": "fPVNaqowZsb9",
        "colab_type": "code",
        "colab": {}
      },
      "source": [
        "#loaded_model = load_model('ModalSenseBinaryCNN100Neu.h5') # load pre-trained model with weights, etc"
      ],
      "execution_count": 0,
      "outputs": []
    },
    {
      "cell_type": "code",
      "metadata": {
        "id": "5Z-AKwH3_Gg2",
        "colab_type": "code",
        "colab": {}
      },
      "source": [
        "#loaded_model.summary()"
      ],
      "execution_count": 0,
      "outputs": []
    },
    {
      "cell_type": "code",
      "metadata": {
        "id": "z4MK5l5E-o7d",
        "colab_type": "code",
        "outputId": "0d40e912-7f4f-46ab-e178-a83d97c5dac0",
        "colab": {
          "base_uri": "https://localhost:8080/",
          "height": 34
        }
      },
      "source": [
        "# Evaluation of pre-trained EPOS Model on NZZ Modality Dataset\n",
        "\n",
        "#loss, metrics = loaded_model.evaluate( x= [x_binary, x_binary, x_binary], y = y_binary, batch_size = 16, verbose = 1)"
      ],
      "execution_count": 0,
      "outputs": [
        {
          "output_type": "stream",
          "text": [
            "17/17 [==============================] - 1s 30ms/step - loss: 3.4878 - accuracy: 0.4106\n"
          ],
          "name": "stdout"
        }
      ]
    },
    {
      "cell_type": "code",
      "metadata": {
        "id": "7uVDojrR98iz",
        "colab_type": "code",
        "outputId": "93899cb1-424f-41e0-ba29-e964eea5f582",
        "colab": {
          "base_uri": "https://localhost:8080/",
          "height": 207
        }
      },
      "source": [
        "# Transfer Learning on pre-trained Model\n",
        "\n",
        "#history_lm = loaded_model.fit(x = [x_trainr, x_trainr, x_trainr], y = y_trainr, validation_data = ([x_testr, x_testr, x_testr], y_testr), batch_size= 16, shuffle = True, epochs = 5)"
      ],
      "execution_count": 0,
      "outputs": [
        {
          "output_type": "stream",
          "text": [
            "Epoch 1/5\n",
            "14/14 [==============================] - 1s 100ms/step - loss: 2.0907 - accuracy: 0.5810 - val_loss: 1.4781 - val_accuracy: 0.3585\n",
            "Epoch 2/5\n",
            "14/14 [==============================] - 1s 99ms/step - loss: 0.6057 - accuracy: 0.6619 - val_loss: 1.0970 - val_accuracy: 0.5094\n",
            "Epoch 3/5\n",
            "14/14 [==============================] - 1s 99ms/step - loss: 0.4049 - accuracy: 0.8667 - val_loss: 1.2122 - val_accuracy: 0.6604\n",
            "Epoch 4/5\n",
            "14/14 [==============================] - 1s 98ms/step - loss: 0.2464 - accuracy: 0.9238 - val_loss: 1.2188 - val_accuracy: 0.6415\n",
            "Epoch 5/5\n",
            "14/14 [==============================] - 1s 99ms/step - loss: 0.1430 - accuracy: 0.9714 - val_loss: 1.4112 - val_accuracy: 0.6415\n"
          ],
          "name": "stdout"
        }
      ]
    },
    {
      "cell_type": "markdown",
      "metadata": {
        "id": "B-TPA1XAn6C-",
        "colab_type": "text"
      },
      "source": [
        "#### Target Sentences"
      ]
    },
    {
      "cell_type": "code",
      "metadata": {
        "id": "wYbO1U1aEaQx",
        "colab_type": "code",
        "colab": {}
      },
      "source": [
        "# Re-use CNN Multi-channel Architecture from previous Classification + modify Parameters\n",
        "\n",
        "def define_model2(length, dims): #sequence length, vocab size/embedding dims\n",
        "  # channel 1\n",
        "  inputs1 = Input(shape=(length, dims))\n",
        "  conv1 = Conv1D(filters = 128, kernel_size = 3, activation = 'relu')(inputs1) #filter size 3 #6\n",
        "  drop1 = Dropout(0.3)(conv1) # lower drop out for smaller dataset\n",
        "  pool1 = MaxPooling1D(pool_size = 3)(drop1)\n",
        "  flat1 = Flatten()(pool1)\n",
        "  # channel 2\n",
        "  inputs2 = Input(shape=(length, dims))\n",
        "  conv2 = Conv1D(filters = 128, kernel_size = 4, activation = 'relu')(inputs2) #filter size 4 #8\n",
        "  drop2 = Dropout(0.3)(conv2)\n",
        "  pool2 = MaxPooling1D(pool_size = 3)(drop2)\n",
        "  flat2 = Flatten()(pool2)\n",
        "  # channel 3\n",
        "  inputs3 = Input(shape=(length, dims))\n",
        "  conv3 = Conv1D(filters = 128, kernel_size = 5, activation = 'relu')(inputs3) #filter size 5 #10\n",
        "  drop3 = Dropout(0.3)(conv3)\n",
        "  pool3 = MaxPooling1D(pool_size = 3)(drop3)\n",
        "  flat3 = Flatten()(pool3)\n",
        "  # merge layer\n",
        "  merged = concatenate([flat1, flat2, flat3])\n",
        "  dense1 = Dense(10, activation = 'relu', activity_regularizer=regularizers.l2(0.001))(merged) \n",
        "  outputs = Dense(2, activation = 'softmax', activity_regularizer=regularizers.l2(0.001))(dense1) \n",
        "  model = Model(inputs = [inputs1, inputs2, inputs3], outputs  = outputs)\n",
        "  # compile\n",
        "  model.compile(loss = 'binary_crossentropy', optimizer = optimizers.RMSprop(learning_rate = 0.0001), metrics = ['accuracy']) #lower lr to counteract fast overfitting\n",
        "  # summary \n",
        "  #print(model.summary())\n",
        "\n",
        "  return model"
      ],
      "execution_count": 0,
      "outputs": []
    },
    {
      "cell_type": "code",
      "metadata": {
        "id": "1TxOeUOJaqeQ",
        "colab_type": "code",
        "colab": {}
      },
      "source": [
        "# Instantiate Model\n",
        "\n",
        "modelTS = define_model2(100, 300)"
      ],
      "execution_count": 0,
      "outputs": []
    },
    {
      "cell_type": "code",
      "metadata": {
        "id": "Hs5F7a5prI8R",
        "colab_type": "code",
        "outputId": "059d54c0-75f5-4d48-ceee-89ac24c76ac2",
        "colab": {
          "base_uri": "https://localhost:8080/",
          "height": 1000
        }
      },
      "source": [
        "# Train newly tuned Model\n",
        "\n",
        "historyTS = modelTS.fit(x = [x_trainTS, x_trainTS, x_trainTS], y = y_trainTS, validation_data=([x_testTS, x_testTS, x_testTS], y_testTS), shuffle = True, epochs = 30, batch_size = 16) #16\n"
      ],
      "execution_count": 0,
      "outputs": [
        {
          "output_type": "stream",
          "text": [
            "Epoch 1/30\n",
            "46/46 [==============================] - 4s 88ms/step - loss: 0.5115 - accuracy: 0.8076 - val_loss: 0.5361 - val_accuracy: 0.7989\n",
            "Epoch 2/30\n",
            "46/46 [==============================] - 4s 85ms/step - loss: 0.4719 - accuracy: 0.8199 - val_loss: 0.5327 - val_accuracy: 0.7989\n",
            "Epoch 3/30\n",
            "46/46 [==============================] - 4s 85ms/step - loss: 0.4539 - accuracy: 0.8199 - val_loss: 0.5293 - val_accuracy: 0.7989\n",
            "Epoch 4/30\n",
            "46/46 [==============================] - 4s 86ms/step - loss: 0.4460 - accuracy: 0.8199 - val_loss: 0.5253 - val_accuracy: 0.7989\n",
            "Epoch 5/30\n",
            "46/46 [==============================] - 4s 86ms/step - loss: 0.4304 - accuracy: 0.8199 - val_loss: 0.5273 - val_accuracy: 0.7989\n",
            "Epoch 6/30\n",
            "46/46 [==============================] - 4s 86ms/step - loss: 0.4193 - accuracy: 0.8199 - val_loss: 0.5214 - val_accuracy: 0.7989\n",
            "Epoch 7/30\n",
            "46/46 [==============================] - 4s 85ms/step - loss: 0.4026 - accuracy: 0.8199 - val_loss: 0.5243 - val_accuracy: 0.7989\n",
            "Epoch 8/30\n",
            "46/46 [==============================] - 4s 86ms/step - loss: 0.3893 - accuracy: 0.8199 - val_loss: 0.5190 - val_accuracy: 0.7989\n",
            "Epoch 9/30\n",
            "46/46 [==============================] - 4s 85ms/step - loss: 0.3719 - accuracy: 0.8254 - val_loss: 0.5150 - val_accuracy: 0.7989\n",
            "Epoch 10/30\n",
            "46/46 [==============================] - 4s 85ms/step - loss: 0.3537 - accuracy: 0.8322 - val_loss: 0.5102 - val_accuracy: 0.7989\n",
            "Epoch 11/30\n",
            "46/46 [==============================] - 4s 87ms/step - loss: 0.3369 - accuracy: 0.8363 - val_loss: 0.5136 - val_accuracy: 0.7989\n",
            "Epoch 12/30\n",
            "46/46 [==============================] - 4s 87ms/step - loss: 0.3152 - accuracy: 0.8472 - val_loss: 0.5053 - val_accuracy: 0.7935\n",
            "Epoch 13/30\n",
            "46/46 [==============================] - 4s 87ms/step - loss: 0.2943 - accuracy: 0.8677 - val_loss: 0.5285 - val_accuracy: 0.7989\n",
            "Epoch 14/30\n",
            "46/46 [==============================] - 4s 86ms/step - loss: 0.2806 - accuracy: 0.8718 - val_loss: 0.5124 - val_accuracy: 0.7989\n",
            "Epoch 15/30\n",
            "46/46 [==============================] - 4s 86ms/step - loss: 0.2599 - accuracy: 0.8813 - val_loss: 0.5019 - val_accuracy: 0.7935\n",
            "Epoch 16/30\n",
            "46/46 [==============================] - 4s 86ms/step - loss: 0.2391 - accuracy: 0.8977 - val_loss: 0.4963 - val_accuracy: 0.7880\n",
            "Epoch 17/30\n",
            "46/46 [==============================] - 4s 85ms/step - loss: 0.2240 - accuracy: 0.9250 - val_loss: 0.4911 - val_accuracy: 0.7935\n",
            "Epoch 18/30\n",
            "46/46 [==============================] - 4s 86ms/step - loss: 0.2058 - accuracy: 0.9304 - val_loss: 0.5147 - val_accuracy: 0.7935\n",
            "Epoch 19/30\n",
            "46/46 [==============================] - 4s 85ms/step - loss: 0.1898 - accuracy: 0.9400 - val_loss: 0.5079 - val_accuracy: 0.7935\n",
            "Epoch 20/30\n",
            "46/46 [==============================] - 4s 86ms/step - loss: 0.1719 - accuracy: 0.9509 - val_loss: 0.4964 - val_accuracy: 0.7989\n",
            "Epoch 21/30\n",
            "46/46 [==============================] - 4s 86ms/step - loss: 0.1541 - accuracy: 0.9618 - val_loss: 0.5049 - val_accuracy: 0.7989\n",
            "Epoch 22/30\n",
            "46/46 [==============================] - 4s 85ms/step - loss: 0.1409 - accuracy: 0.9645 - val_loss: 0.4986 - val_accuracy: 0.7989\n",
            "Epoch 23/30\n",
            "46/46 [==============================] - 4s 86ms/step - loss: 0.1285 - accuracy: 0.9809 - val_loss: 0.4924 - val_accuracy: 0.7935\n",
            "Epoch 24/30\n",
            "46/46 [==============================] - 4s 86ms/step - loss: 0.1130 - accuracy: 0.9836 - val_loss: 0.5161 - val_accuracy: 0.7989\n",
            "Epoch 25/30\n",
            "46/46 [==============================] - 4s 85ms/step - loss: 0.1011 - accuracy: 0.9877 - val_loss: 0.4983 - val_accuracy: 0.7989\n",
            "Epoch 26/30\n",
            "46/46 [==============================] - 4s 85ms/step - loss: 0.0894 - accuracy: 0.9932 - val_loss: 0.5446 - val_accuracy: 0.8043\n",
            "Epoch 27/30\n",
            "46/46 [==============================] - 4s 85ms/step - loss: 0.0798 - accuracy: 0.9945 - val_loss: 0.5348 - val_accuracy: 0.7989\n",
            "Epoch 28/30\n",
            "46/46 [==============================] - 4s 86ms/step - loss: 0.0700 - accuracy: 0.9945 - val_loss: 0.5255 - val_accuracy: 0.8098\n",
            "Epoch 29/30\n",
            "46/46 [==============================] - 4s 86ms/step - loss: 0.0632 - accuracy: 0.9973 - val_loss: 0.5382 - val_accuracy: 0.8043\n",
            "Epoch 30/30\n",
            "46/46 [==============================] - 4s 85ms/step - loss: 0.0555 - accuracy: 0.9959 - val_loss: 0.5516 - val_accuracy: 0.8043\n"
          ],
          "name": "stdout"
        }
      ]
    },
    {
      "cell_type": "code",
      "metadata": {
        "id": "m_0XyF2BwUve",
        "colab_type": "code",
        "outputId": "e71252e6-81e3-40fc-f6b2-c08aefcbf87c",
        "colab": {
          "base_uri": "https://localhost:8080/",
          "height": 295
        }
      },
      "source": [
        "# Plot training & validation accuracy values\n",
        "\n",
        "plt.plot(historyTS.history['accuracy'])\n",
        "plt.plot(historyTS.history['val_accuracy'])\n",
        "plt.title('Model accuracy')\n",
        "plt.ylabel('Accuracy')\n",
        "plt.xlabel('Epoch')\n",
        "plt.legend(['Train', 'Test', 'Classes'], loc='lower right')\n",
        "plt.savefig('ModalSenseBinaryAccuracyTSBinary.png')\n",
        "plt.show()\n"
      ],
      "execution_count": 0,
      "outputs": [
        {
          "output_type": "display_data",
          "data": {
            "image/png": "[encoded data removed]",
            "text/plain": [
              "<Figure size 432x288 with 1 Axes>"
            ]
          },
          "metadata": {
            "tags": []
          }
        }
      ]
    },
    {
      "cell_type": "code",
      "metadata": {
        "id": "DPBImLKzWflQ",
        "colab_type": "code",
        "outputId": "dda68d75-424e-4593-9b3f-df3b9334d443",
        "colab": {
          "base_uri": "https://localhost:8080/",
          "height": 295
        }
      },
      "source": [
        "# Plot training & validation loss values\n",
        "\n",
        "plt.plot(historyTS.history['loss'])\n",
        "plt.plot(historyTS.history['val_loss'])\n",
        "plt.title('Model loss')\n",
        "plt.ylabel('Loss')\n",
        "plt.xlabel('Epoch')\n",
        "plt.legend(['Train', 'Test'], loc='upper right')\n",
        "plt.savefig('ModalSenseBinaryLossTSBinary.png')\n",
        "plt.show()"
      ],
      "execution_count": 0,
      "outputs": [
        {
          "output_type": "display_data",
          "data": {
            "image/png": "[encoded data removed]",
            "text/plain": [
              "<Figure size 432x288 with 1 Axes>"
            ]
          },
          "metadata": {
            "tags": []
          }
        }
      ]
    },
    {
      "cell_type": "markdown",
      "metadata": {
        "id": "UxP5jupMHJ48",
        "colab_type": "text"
      },
      "source": [
        "#### Matrix Sentences"
      ]
    },
    {
      "cell_type": "code",
      "metadata": {
        "id": "XOb5C_XGHJLd",
        "colab_type": "code",
        "outputId": "dbe216b3-bded-466b-909c-2427ea18c1fa",
        "colab": {
          "base_uri": "https://localhost:8080/",
          "height": 1000
        }
      },
      "source": [
        "# Train newly tuned Model\n",
        "\n",
        "modelMS = define_model2(100, 300)\n",
        "historyMS = modelMS.fit(x = [x_trainMS, x_trainMS, x_trainMS], y = y_trainMS, validation_data=([x_testMS, x_testMS, x_testMS], y_testMS), shuffle = True, epochs = 30, batch_size = 16) #16"
      ],
      "execution_count": 0,
      "outputs": [
        {
          "output_type": "stream",
          "text": [
            "Epoch 1/30\n",
            "14/14 [==============================] - 1s 90ms/step - loss: 0.6341 - accuracy: 0.6952 - val_loss: 0.6471 - val_accuracy: 0.6792\n",
            "Epoch 2/30\n",
            "14/14 [==============================] - 1s 80ms/step - loss: 0.5700 - accuracy: 0.7476 - val_loss: 0.6401 - val_accuracy: 0.6792\n",
            "Epoch 3/30\n",
            "14/14 [==============================] - 1s 79ms/step - loss: 0.5582 - accuracy: 0.7476 - val_loss: 0.6454 - val_accuracy: 0.6792\n",
            "Epoch 4/30\n",
            "14/14 [==============================] - 1s 80ms/step - loss: 0.5400 - accuracy: 0.7476 - val_loss: 0.6464 - val_accuracy: 0.6792\n",
            "Epoch 5/30\n",
            "14/14 [==============================] - 1s 79ms/step - loss: 0.5265 - accuracy: 0.7476 - val_loss: 0.6409 - val_accuracy: 0.6792\n",
            "Epoch 6/30\n",
            "14/14 [==============================] - 1s 79ms/step - loss: 0.5164 - accuracy: 0.7476 - val_loss: 0.6323 - val_accuracy: 0.6792\n",
            "Epoch 7/30\n",
            "14/14 [==============================] - 1s 79ms/step - loss: 0.4978 - accuracy: 0.7524 - val_loss: 0.6340 - val_accuracy: 0.6792\n",
            "Epoch 8/30\n",
            "14/14 [==============================] - 1s 79ms/step - loss: 0.4869 - accuracy: 0.7571 - val_loss: 0.6334 - val_accuracy: 0.6792\n",
            "Epoch 9/30\n",
            "14/14 [==============================] - 1s 79ms/step - loss: 0.4746 - accuracy: 0.7571 - val_loss: 0.6457 - val_accuracy: 0.6792\n",
            "Epoch 10/30\n",
            "14/14 [==============================] - 1s 79ms/step - loss: 0.4624 - accuracy: 0.7619 - val_loss: 0.6514 - val_accuracy: 0.6792\n",
            "Epoch 11/30\n",
            "14/14 [==============================] - 1s 79ms/step - loss: 0.4489 - accuracy: 0.7571 - val_loss: 0.6424 - val_accuracy: 0.6792\n",
            "Epoch 12/30\n",
            "14/14 [==============================] - 1s 79ms/step - loss: 0.4339 - accuracy: 0.7762 - val_loss: 0.6432 - val_accuracy: 0.6792\n",
            "Epoch 13/30\n",
            "14/14 [==============================] - 1s 79ms/step - loss: 0.4178 - accuracy: 0.7667 - val_loss: 0.6280 - val_accuracy: 0.6981\n",
            "Epoch 14/30\n",
            "14/14 [==============================] - 1s 79ms/step - loss: 0.3987 - accuracy: 0.8238 - val_loss: 0.6554 - val_accuracy: 0.6792\n",
            "Epoch 15/30\n",
            "14/14 [==============================] - 1s 79ms/step - loss: 0.3888 - accuracy: 0.8143 - val_loss: 0.6672 - val_accuracy: 0.6792\n",
            "Epoch 16/30\n",
            "14/14 [==============================] - 1s 79ms/step - loss: 0.3786 - accuracy: 0.8143 - val_loss: 0.6652 - val_accuracy: 0.6792\n",
            "Epoch 17/30\n",
            "14/14 [==============================] - 1s 79ms/step - loss: 0.3510 - accuracy: 0.8524 - val_loss: 0.6964 - val_accuracy: 0.6792\n",
            "Epoch 18/30\n",
            "14/14 [==============================] - 1s 80ms/step - loss: 0.3440 - accuracy: 0.8429 - val_loss: 0.6467 - val_accuracy: 0.6792\n",
            "Epoch 19/30\n",
            "14/14 [==============================] - 1s 80ms/step - loss: 0.3249 - accuracy: 0.8762 - val_loss: 0.6551 - val_accuracy: 0.6792\n",
            "Epoch 20/30\n",
            "14/14 [==============================] - 1s 81ms/step - loss: 0.3010 - accuracy: 0.8905 - val_loss: 0.6523 - val_accuracy: 0.6792\n",
            "Epoch 21/30\n",
            "14/14 [==============================] - 1s 79ms/step - loss: 0.2903 - accuracy: 0.8905 - val_loss: 0.6497 - val_accuracy: 0.6792\n",
            "Epoch 22/30\n",
            "14/14 [==============================] - 1s 80ms/step - loss: 0.2762 - accuracy: 0.9048 - val_loss: 0.6709 - val_accuracy: 0.6792\n",
            "Epoch 23/30\n",
            "14/14 [==============================] - 1s 80ms/step - loss: 0.2606 - accuracy: 0.9095 - val_loss: 0.6956 - val_accuracy: 0.6792\n",
            "Epoch 24/30\n",
            "14/14 [==============================] - 1s 79ms/step - loss: 0.2435 - accuracy: 0.9381 - val_loss: 0.6799 - val_accuracy: 0.6792\n",
            "Epoch 25/30\n",
            "14/14 [==============================] - 1s 79ms/step - loss: 0.2322 - accuracy: 0.9476 - val_loss: 0.6242 - val_accuracy: 0.6981\n",
            "Epoch 26/30\n",
            "14/14 [==============================] - 1s 79ms/step - loss: 0.2153 - accuracy: 0.9571 - val_loss: 0.6244 - val_accuracy: 0.6792\n",
            "Epoch 27/30\n",
            "14/14 [==============================] - 1s 79ms/step - loss: 0.2009 - accuracy: 0.9524 - val_loss: 0.6410 - val_accuracy: 0.6981\n",
            "Epoch 28/30\n",
            "14/14 [==============================] - 1s 79ms/step - loss: 0.1873 - accuracy: 0.9619 - val_loss: 0.6939 - val_accuracy: 0.6792\n",
            "Epoch 29/30\n",
            "14/14 [==============================] - 1s 81ms/step - loss: 0.1807 - accuracy: 0.9667 - val_loss: 0.6073 - val_accuracy: 0.6792\n",
            "Epoch 30/30\n",
            "14/14 [==============================] - 1s 79ms/step - loss: 0.1671 - accuracy: 0.9714 - val_loss: 0.6609 - val_accuracy: 0.6981\n"
          ],
          "name": "stdout"
        }
      ]
    },
    {
      "cell_type": "markdown",
      "metadata": {
        "id": "9RzG41WSocih",
        "colab_type": "text"
      },
      "source": [
        "#### Narrow Classes"
      ]
    },
    {
      "cell_type": "code",
      "metadata": {
        "id": "_Nhba5MWOckn",
        "colab_type": "code",
        "outputId": "b203d612-7224-435e-cb65-9c849c0122c1",
        "colab": {
          "base_uri": "https://localhost:8080/",
          "height": 1000
        }
      },
      "source": [
        "# Train newly tuned Model\n",
        "\n",
        "model_epde = define_model2(100, 300)\n",
        "history_epde = model_epde.fit(x = [x_train_epde, x_train_epde, x_train_epde], y = y_train_epde, validation_data=([x_test_epde, x_test_epde, x_test_epde], y_test_epde), shuffle = True, epochs = 40, batch_size = 16) #16"
      ],
      "execution_count": 0,
      "outputs": [
        {
          "output_type": "stream",
          "text": [
            "Epoch 1/40\n",
            "16/16 [==============================] - 1s 91ms/step - loss: 0.6664 - accuracy: 0.6328 - val_loss: 0.7225 - val_accuracy: 0.4688\n",
            "Epoch 2/40\n",
            "16/16 [==============================] - 1s 84ms/step - loss: 0.6395 - accuracy: 0.6562 - val_loss: 0.7402 - val_accuracy: 0.4688\n",
            "Epoch 3/40\n",
            "16/16 [==============================] - 1s 83ms/step - loss: 0.6245 - accuracy: 0.6562 - val_loss: 0.7404 - val_accuracy: 0.4688\n",
            "Epoch 4/40\n",
            "16/16 [==============================] - 1s 83ms/step - loss: 0.6083 - accuracy: 0.6602 - val_loss: 0.7454 - val_accuracy: 0.4688\n",
            "Epoch 5/40\n",
            "16/16 [==============================] - 1s 82ms/step - loss: 0.5930 - accuracy: 0.6602 - val_loss: 0.7285 - val_accuracy: 0.4688\n",
            "Epoch 6/40\n",
            "16/16 [==============================] - 1s 83ms/step - loss: 0.5737 - accuracy: 0.6875 - val_loss: 0.7521 - val_accuracy: 0.4688\n",
            "Epoch 7/40\n",
            "16/16 [==============================] - 1s 82ms/step - loss: 0.5544 - accuracy: 0.6758 - val_loss: 0.7190 - val_accuracy: 0.4688\n",
            "Epoch 8/40\n",
            "16/16 [==============================] - 1s 83ms/step - loss: 0.5383 - accuracy: 0.6992 - val_loss: 0.7267 - val_accuracy: 0.4688\n",
            "Epoch 9/40\n",
            "16/16 [==============================] - 1s 84ms/step - loss: 0.5214 - accuracy: 0.7305 - val_loss: 0.7362 - val_accuracy: 0.4688\n",
            "Epoch 10/40\n",
            "16/16 [==============================] - 1s 83ms/step - loss: 0.5028 - accuracy: 0.7461 - val_loss: 0.7199 - val_accuracy: 0.4688\n",
            "Epoch 11/40\n",
            "16/16 [==============================] - 1s 82ms/step - loss: 0.4795 - accuracy: 0.7734 - val_loss: 0.7245 - val_accuracy: 0.4688\n",
            "Epoch 12/40\n",
            "16/16 [==============================] - 1s 82ms/step - loss: 0.4612 - accuracy: 0.8008 - val_loss: 0.7224 - val_accuracy: 0.4688\n",
            "Epoch 13/40\n",
            "16/16 [==============================] - 1s 81ms/step - loss: 0.4349 - accuracy: 0.7969 - val_loss: 0.6876 - val_accuracy: 0.4844\n",
            "Epoch 14/40\n",
            "16/16 [==============================] - 1s 82ms/step - loss: 0.4237 - accuracy: 0.8359 - val_loss: 0.6933 - val_accuracy: 0.5000\n",
            "Epoch 15/40\n",
            "16/16 [==============================] - 1s 82ms/step - loss: 0.4051 - accuracy: 0.8516 - val_loss: 0.6962 - val_accuracy: 0.4688\n",
            "Epoch 16/40\n",
            "16/16 [==============================] - 1s 86ms/step - loss: 0.3799 - accuracy: 0.8867 - val_loss: 0.7192 - val_accuracy: 0.4844\n",
            "Epoch 17/40\n",
            "16/16 [==============================] - 1s 84ms/step - loss: 0.3648 - accuracy: 0.9062 - val_loss: 0.7200 - val_accuracy: 0.4844\n",
            "Epoch 18/40\n",
            "16/16 [==============================] - 1s 83ms/step - loss: 0.3446 - accuracy: 0.9062 - val_loss: 0.7149 - val_accuracy: 0.4688\n",
            "Epoch 19/40\n",
            "16/16 [==============================] - 1s 84ms/step - loss: 0.3233 - accuracy: 0.9258 - val_loss: 0.7147 - val_accuracy: 0.4688\n",
            "Epoch 20/40\n",
            "16/16 [==============================] - 1s 83ms/step - loss: 0.3062 - accuracy: 0.9297 - val_loss: 0.6942 - val_accuracy: 0.5000\n",
            "Epoch 21/40\n",
            "16/16 [==============================] - 1s 83ms/step - loss: 0.2860 - accuracy: 0.9531 - val_loss: 0.7444 - val_accuracy: 0.4844\n",
            "Epoch 22/40\n",
            "16/16 [==============================] - 1s 84ms/step - loss: 0.2679 - accuracy: 0.9688 - val_loss: 0.7216 - val_accuracy: 0.4844\n",
            "Epoch 23/40\n",
            "16/16 [==============================] - 1s 83ms/step - loss: 0.2512 - accuracy: 0.9727 - val_loss: 0.6703 - val_accuracy: 0.5625\n",
            "Epoch 24/40\n",
            "16/16 [==============================] - 1s 84ms/step - loss: 0.2308 - accuracy: 0.9766 - val_loss: 0.6854 - val_accuracy: 0.5469\n",
            "Epoch 25/40\n",
            "16/16 [==============================] - 1s 83ms/step - loss: 0.2207 - accuracy: 0.9883 - val_loss: 0.6839 - val_accuracy: 0.5469\n",
            "Epoch 26/40\n",
            "16/16 [==============================] - 1s 82ms/step - loss: 0.2012 - accuracy: 0.9844 - val_loss: 0.7039 - val_accuracy: 0.5312\n",
            "Epoch 27/40\n",
            "16/16 [==============================] - 1s 83ms/step - loss: 0.1835 - accuracy: 0.9922 - val_loss: 0.7696 - val_accuracy: 0.5000\n",
            "Epoch 28/40\n",
            "16/16 [==============================] - 1s 82ms/step - loss: 0.1746 - accuracy: 0.9922 - val_loss: 0.6893 - val_accuracy: 0.5469\n",
            "Epoch 29/40\n",
            "16/16 [==============================] - 1s 83ms/step - loss: 0.1588 - accuracy: 0.9922 - val_loss: 0.6667 - val_accuracy: 0.5625\n",
            "Epoch 30/40\n",
            "16/16 [==============================] - 1s 84ms/step - loss: 0.1461 - accuracy: 0.9961 - val_loss: 0.7349 - val_accuracy: 0.5312\n",
            "Epoch 31/40\n",
            "16/16 [==============================] - 1s 85ms/step - loss: 0.1362 - accuracy: 0.9961 - val_loss: 0.6599 - val_accuracy: 0.6250\n",
            "Epoch 32/40\n",
            "16/16 [==============================] - 1s 83ms/step - loss: 0.1274 - accuracy: 0.9961 - val_loss: 0.7420 - val_accuracy: 0.5312\n",
            "Epoch 33/40\n",
            "16/16 [==============================] - 1s 82ms/step - loss: 0.1145 - accuracy: 0.9961 - val_loss: 0.7022 - val_accuracy: 0.5469\n",
            "Epoch 34/40\n",
            "16/16 [==============================] - 1s 82ms/step - loss: 0.1051 - accuracy: 0.9961 - val_loss: 0.7153 - val_accuracy: 0.5469\n",
            "Epoch 35/40\n",
            "16/16 [==============================] - 1s 82ms/step - loss: 0.0987 - accuracy: 0.9961 - val_loss: 0.6673 - val_accuracy: 0.6250\n",
            "Epoch 36/40\n",
            "16/16 [==============================] - 1s 82ms/step - loss: 0.0889 - accuracy: 0.9961 - val_loss: 0.6893 - val_accuracy: 0.5625\n",
            "Epoch 37/40\n",
            "16/16 [==============================] - 1s 83ms/step - loss: 0.0816 - accuracy: 0.9961 - val_loss: 0.6693 - val_accuracy: 0.6250\n",
            "Epoch 38/40\n",
            "16/16 [==============================] - 1s 84ms/step - loss: 0.0772 - accuracy: 0.9961 - val_loss: 0.7057 - val_accuracy: 0.5625\n",
            "Epoch 39/40\n",
            "16/16 [==============================] - 1s 82ms/step - loss: 0.0683 - accuracy: 1.0000 - val_loss: 0.7639 - val_accuracy: 0.5469\n",
            "Epoch 40/40\n",
            "16/16 [==============================] - 1s 82ms/step - loss: 0.0616 - accuracy: 1.0000 - val_loss: 0.7164 - val_accuracy: 0.5469\n"
          ],
          "name": "stdout"
        }
      ]
    }
  ]
}